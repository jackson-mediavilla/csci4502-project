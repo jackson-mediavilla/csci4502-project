{
 "cells": [
  {
   "cell_type": "code",
   "execution_count": 654,
   "metadata": {},
   "outputs": [],
   "source": [
    "import numpy as np\n",
    "import matplotlib.pylab as plt\n",
    "import pandas as pd\n",
    "import sklearn\n",
    "import scipy\n",
    "import os\n",
    "import re\n",
    "import timeit\n",
    "\n",
    "from scipy import stats\n",
    "from subprocess import check_output\n",
    "from sklearn.model_selection import train_test_split\n",
    "from sklearn.cluster import KMeans\n",
    "from sklearn.neighbors import NearestNeighbors\n",
    "\n",
    "from sklearn.tree import DecisionTreeRegressor\n",
    "from sklearn.metrics import mean_absolute_error\n",
    "from sklearn.ensemble import RandomForestRegressor\n",
    "\n",
    "%matplotlib inline"
   ]
  },
  {
   "cell_type": "markdown",
   "metadata": {},
   "source": [
    "# Methods to import data"
   ]
  },
  {
   "cell_type": "markdown",
   "metadata": {},
   "source": [
    "#### Methods To Import Event Data"
   ]
  },
  {
   "cell_type": "code",
   "execution_count": 433,
   "metadata": {
    "collapsed": true
   },
   "outputs": [],
   "source": [
    "'''\n",
    "this function will take as an argument a file containing\n",
    "the field index and description for every field in the data frames.\n",
    "I will use this to create a template dataframe and to name the columns\n",
    "because currently it is just using the first value as the column name\n",
    "and it makes literally no sense at all.\n",
    "'''\n",
    "def shape_ev_data():\n",
    "    #this file contains all the field descriptions\n",
    "    field_descriptor_file_path = \"csvFieldDescriptions.txt\"\n",
    "    \n",
    "    #open the file and read it, adding each description to a list\n",
    "    fields = open(field_descriptor_file_path, 'r')\n",
    "    fieldInfo = []\n",
    "    for field in fields:\n",
    "        fieldInfo.append(field[2:].strip())\n",
    "    fields.close() #close file\n",
    "    return fieldInfo"
   ]
  },
  {
   "cell_type": "code",
   "execution_count": 434,
   "metadata": {
    "collapsed": true
   },
   "outputs": [],
   "source": [
    "'''\n",
    "This function takes as an argument the number of subframes to include\n",
    "where each 'subframe' is a pandas data frame containing play by play\n",
    "data for a team for a year. It will then return those subframes\n",
    "concatenated together into one main data frame. Subframes is preset to 50\n",
    "'''\n",
    "def get_event_data(subframes=50):\n",
    "    csvFiles = '../data/event_csv_files/'\n",
    "    csv_paths = os.listdir(csvFiles)#Get the paths of all of the CSV files\n",
    "    column_info = shape_ev_data()#get the information on each field\n",
    "    data = pd.DataFrame(columns=column_info)#create an empty data frame\n",
    "    individual_data = []#create a list to hold the smaller frames\n",
    "    del individual_data[:]#clear the list just in case I've already been using it\n",
    "\n",
    "    #make all the dataframes\n",
    "    df = pd.DataFrame(columns=column_info) #define a temp frame\n",
    "    for index, path in enumerate(csv_paths):#iterate over the list of paths\n",
    "        #names=column_info is what names the columns\n",
    "        df = pd.read_csv(str(csvFiles+path), names=column_info)#read a file into a csv\n",
    "        individual_data.append(df)#add it to the list\n",
    "        \n",
    "        #this line here is what limits how much data you pull.\n",
    "        #if you eneter -1 for subframes it'll skip this check and\n",
    "        #generate all of the data\n",
    "        if(subframes != -1):#if the passed parameter is -1, generate ALL data\n",
    "            if(index==subframes):#stop when desired subframe # is reached\n",
    "                break\n",
    "    \n",
    "    data = pd.concat(individual_data) #combining sub frames\n",
    "    del individual_data[:] #dont wanna waste space\n",
    "    return data#, individual_data"
   ]
  },
  {
   "cell_type": "markdown",
   "metadata": {},
   "source": [
    "#### Method To Import Game Log Data"
   ]
  },
  {
   "cell_type": "code",
   "execution_count": 435,
   "metadata": {},
   "outputs": [],
   "source": [
    "#reading in all the game logs and appending the dataframe accordingly\n",
    "def get_gl_data():\n",
    "    GLData = pd.DataFrame()\n",
    "    gls = [] #to hold smaller frames\n",
    "    del gls[:] #clear it to be sure\n",
    "    glogpath = '../data/GameLogs/' #path to the game logs\n",
    "    headPath = glogpath+'game_log_header.csv' #get the column info\n",
    "    header = pd.read_csv(headPath) #import the column info\n",
    "    colInfo = header.columns #store it for later use\n",
    "    start_year = 1950 #define starting year. gonna use this in path\n",
    "    end_year = 17 #also for path\n",
    "    for logFolder in os.listdir(glogpath):\n",
    "        try:#catching non int cases\n",
    "            y1 = int(logFolder[2:4]) ##first two of start yyyy\n",
    "            y2 = int(logFolder[2:6]) ##full start year\n",
    "            y3 = int(str(y1)+logFolder[-2:]) #full end year\n",
    "        except:\n",
    "            continue\n",
    "        #now open the folder if the start year is between the dates in the name\n",
    "        if(start_year<y3):\n",
    "            newPath = glogpath+logFolder\n",
    "            files = os.listdir(newPath)#get all the logs in the folder\n",
    "            for file in files:#now check each file to make sure it's the righ year\n",
    "                year = int(file[2:6])#get year of file\n",
    "                if(year>=start_year):#if it's within the range we want\n",
    "                    full_path = glogpath+logFolder+'/'+file #make full path\n",
    "                    gls.append(pd.read_csv(full_path, names=colInfo))#append the frame\n",
    "    GLData = pd.concat(gls) #combine the subframes into this one\n",
    "    del gls[:] #not wasting space\n",
    "    return GLData"
   ]
  },
  {
   "cell_type": "markdown",
   "metadata": {},
   "source": [
    "#### Method To Import Park Information Data"
   ]
  },
  {
   "cell_type": "code",
   "execution_count": 436,
   "metadata": {
    "collapsed": true
   },
   "outputs": [],
   "source": [
    "#this method will return an unedited dataframe of the park information\n",
    "def get_park_data():\n",
    "    parks = pd.DataFrame() #create empty frame\n",
    "    path = '../data/ParkInfo/ParkCodes.TXT' #path to park data\n",
    "\n",
    "    cols = ['PARKID','CITY','STATE'] #cols to import\n",
    "    parks = pd.read_csv(path, usecols=cols) #import it as csv\n",
    "    parks.columns = ['parkid','city','state'] #name cols\n",
    "    parks['location'] = parks.city + ', ' + parks.state #easier to cross ref\n",
    "    parks = parks.drop(['city','state'],axis=1)\n",
    "    \n",
    "    #parks['lat'] = 0\n",
    "    #parks['lng'] = 0\n",
    "    \n",
    "    return parks #return"
   ]
  },
  {
   "cell_type": "markdown",
   "metadata": {},
   "source": [
    "#### Method To Import City Data"
   ]
  },
  {
   "cell_type": "code",
   "execution_count": 510,
   "metadata": {
    "collapsed": true
   },
   "outputs": [],
   "source": [
    "#this method imports data on cities in the us\n",
    "def get_ct_data():\n",
    "    cities = pd.DataFrame() #create empty frame\n",
    "    path = '../data/ParkInfo/uscities.csv' #path\n",
    "    \n",
    "    #which columns to import\n",
    "    cols = ['city','state_id','lat','lng',]\n",
    "    \n",
    "    #get park info but only read the cols i want\n",
    "    cities = pd.read_csv(path, usecols=cols)\n",
    "    \n",
    "    #renaming a couple special cases\n",
    "    cities.city = cities.city.apply(lambda x: x.replace('Saint','St.'))\n",
    "    \n",
    "    cities.columns = ['city','state','lat','lng'] #rename cols\n",
    "    cities['location'] = cities.city + ', ' + cities.state #for cross ref\n",
    "    cities = cities.drop(['city','state'], axis=1) #drop old cols\n",
    "    \n",
    "    #cities = cities.drop_duplicates(subset='location') #only one station per city\n",
    "    \n",
    "    return cities"
   ]
  },
  {
   "cell_type": "markdown",
   "metadata": {},
   "source": [
    "#### Method To Import Station Data\n"
   ]
  },
  {
   "cell_type": "code",
   "execution_count": 438,
   "metadata": {},
   "outputs": [],
   "source": [
    "#imports the station data\n",
    "def get_st_data():\n",
    "    cols = ['id','lat','lng','elevation','state']\n",
    "    stations = pd.DataFrame(columns=cols) #stations\n",
    "    path = '../data/Weather/station_list.txt' #path to file\n",
    "    formatted_path = '../data/Weather/formatted_station_list.txt'\n",
    "    stations = open(path, 'r') #open weather stations\n",
    "    f_stations = open(formatted_path,'w') #file to write to\n",
    "    \n",
    "    #reformat the weather station file so it's not this ridiculous format\n",
    "    for line in stations: #for each line\n",
    "        new = line[:41] #remove the end because that's all irrelevant\n",
    "        new = re.sub('\\s\\s$', 'zz', new)#fake state col if it doesn't exist\n",
    "        new = ','.join(new.split())#remove spaces and replace with commas\n",
    "        new = new+'\\n' #add a newline at the end\n",
    "        f_stations.write(new) #write the formatted line\n",
    "    f_stations.close() #close the file at the end\n",
    "    \n",
    "    #now set stations frame\n",
    "    stations = pd.read_csv(formatted_path, names=cols)\n",
    "    \n",
    "    stations = stations.replace('zz',np.nan)#replace the zz\n",
    "    print(stations.shape)\n",
    "    stations = stations.dropna(subset=['state'],axis=0)#drop ones with state (not in us)\n",
    "    \n",
    "    return stations"
   ]
  },
  {
   "cell_type": "markdown",
   "metadata": {},
   "source": [
    "#### Method To Import bgame Files"
   ]
  },
  {
   "cell_type": "code",
   "execution_count": 439,
   "metadata": {
    "collapsed": true
   },
   "outputs": [],
   "source": [
    "#get cols of feature names for bgame files\n",
    "def shape_gl_data():\n",
    "    fn = open('bgameFeatureNames.TXT', 'r') #open file\n",
    "    fnames = [] #to store names\n",
    "    for feature in fn: #go over lines\n",
    "        f = re.sub('[\\(\\[].*?[\\)\\]]', '', feature[5:]).strip() #strip it\n",
    "        fnames.append(f) #add to list\n",
    "    fn.close()#close file\n",
    "    return fnames "
   ]
  },
  {
   "cell_type": "code",
   "execution_count": 440,
   "metadata": {
    "collapsed": true
   },
   "outputs": [],
   "source": [
    "#gets game log data from bgame\n",
    "def get_gl2_data():\n",
    "    csvFiles = '../data/game_csv_files/'\n",
    "    csv_paths = os.listdir(csvFiles)#Get the paths of all of the CSV files\n",
    "    column_info = shape_gl_data()#get the information on each field\n",
    "    data = pd.DataFrame(columns=column_info)#create an empty data frame\n",
    "    individual_data = []#create a list to hold the smaller frames\n",
    "    del individual_data[:]#clear the list just in case I've already been using it\n",
    "\n",
    "    #make all the dataframes\n",
    "    df = pd.DataFrame(columns=column_info) #define a temp frame\n",
    "    for index, path in enumerate(csv_paths):#iterate over the list of paths\n",
    "        #names=column_info is what names the columns\n",
    "        df = pd.read_csv(str(csvFiles+path), names=column_info)#read a file into a csv\n",
    "        individual_data.append(df)#add it to the list\n",
    "    \n",
    "    data = pd.concat(individual_data) #combining sub frames\n",
    "    del individual_data[:] #dont wanna waste space\n",
    "    return data#, individual_data"
   ]
  },
  {
   "cell_type": "markdown",
   "metadata": {},
   "source": [
    "#### Methods To Import Daily Weather Data"
   ]
  },
  {
   "cell_type": "code",
   "execution_count": 679,
   "metadata": {
    "collapsed": true
   },
   "outputs": [],
   "source": [
    "#this function will create a dataframe with weather data for the parks that exist\n",
    "def get_weather_data(parks):\n",
    "    \n",
    "    #metadata for fwf import\n",
    "    first_widths = [11,4,2,4] #widths of metadata\n",
    "    first_cols = ['id','year','month','element'] #names of metadata\n",
    "    daily_widths = [5,1,1,1] #widths of data for each day\n",
    "    daily_cols = ['value','mflag','qflag','sflag'] #names of data for each day\n",
    "    widths = first_widths #set widths of first columns\n",
    "    colNames = first_cols #column names array\n",
    "    drop = [] #actual array of columns to drop\n",
    "\n",
    "    #iterate over the days of the month\n",
    "    for i in range(31): \n",
    "        temp = [] #to hold the names temporarily\n",
    "        for col in daily_cols: #now go through these\n",
    "            temp.append(col+str(i+1)) #just add the proper number to the end of each\n",
    "        colNames+=temp #add the colnames to name them\n",
    "        drop+=temp[1:] #drop all but first daily col which is the value\n",
    "        first_widths+=daily_widths #iteratively adding widths for fwf file\n",
    "    \n",
    "    #cols to use\n",
    "    useCols = list(set(colNames)-set(drop)) #these are the cols i'll use\n",
    "    \n",
    "    #basically going to loop and iteratively generate file paths\n",
    "    #and import only the files i need so i don't have to deal with billions of\n",
    "    #lines of data\n",
    "    path = 'https://www1.ncdc.noaa.gov/pub/data/ghcn/daily/all/STATIONID.dly'\n",
    "    \n",
    "    #this will be the real time intensive task. Apply function applied to each\n",
    "    #row that returns a dataframe of weather for the given station. This frame\n",
    "    #is then appended to the individualdata frame\n",
    "    print('Getting weather data...')\n",
    "    individual_data = [] #create a list to hold the smaller frames\n",
    "    already_loaded = []\n",
    "    del individual_data[:] #clear the list just in case\n",
    "    for n in range(parks.shape[0]):#for each park\n",
    "        st = parks.station.iloc[n] #get station of park\n",
    "        \n",
    "        #has this weather station already been loaded in?\n",
    "        if st in already_loaded:\n",
    "            #print(\"Data for \"+st+\" has already been loaded!\")\n",
    "            continue\n",
    "        #for my own sanity\n",
    "        #print(\"Getting data for \"+st)\n",
    "        \n",
    "        #create a temp df\n",
    "        df = pd.read_fwf(path.replace('STATIONID',st), delim_whitespace=True, widths=widths, names=colNames, usecols=useCols)\n",
    "        \n",
    "        #add it to the list\n",
    "        individual_data.append(df) #append data\n",
    "        already_loaded.append(st) #mark that this station has been loaded\n",
    "\n",
    "    #now add them all together and delete the temp list to free space\n",
    "    data = pd.concat(individual_data) #combine the subframes into this one\n",
    "    del individual_data[:] #not wasting space\n",
    "    \n",
    "    #replace missing -9999 convention with Nan\n",
    "    data.replace(-9999,np.nan, inplace=True)\n",
    "    \n",
    "    return data"
   ]
  },
  {
   "cell_type": "markdown",
   "metadata": {},
   "source": [
    "# Data Preprocessing"
   ]
  },
  {
   "cell_type": "markdown",
   "metadata": {},
   "source": [
    "Should probably turn these into functions so I can also preprocess the main dataset. or any of the data that I want to pass to it. Shouldn't be to hard to parameterize. I guess it's worth noting that all of these functions so far have been written with the event data in mind. They almost certainly will not work on the gamelog data. I'm gonna rename the functions to indicate what data they should be used on."
   ]
  },
  {
   "cell_type": "markdown",
   "metadata": {},
   "source": [
    "#### Function to see what fraction of the original size the pruned data is"
   ]
  },
  {
   "cell_type": "code",
   "execution_count": 712,
   "metadata": {
    "collapsed": true
   },
   "outputs": [],
   "source": [
    "#this will just return how much memory pre, post and the percentage\n",
    "def get_reduction(pre, post):\n",
    "    a = np.sum(pre.memory_usage())\n",
    "    b = np.sum(post.memory_usage())\n",
    "    return a, b, b/a"
   ]
  },
  {
   "cell_type": "markdown",
   "metadata": {},
   "source": [
    "#### Pruning"
   ]
  },
  {
   "cell_type": "code",
   "execution_count": 713,
   "metadata": {},
   "outputs": [],
   "source": [
    "#going to drop a lot of columns\n",
    "def prune_ev_data(original_data, verbose=False):\n",
    "    #indexes for columns to drop. Honestly i just looked at the field descriptions\n",
    "    #and dropped mostly things like who was playing each position, where the ball \n",
    "    #was hit, the names of people who contributed to the play, etc\n",
    "    ix = [12, 13, 16, 17, 18, 19, 20, 21, 22, 23, 24, 25, 32, 46, 47,\n",
    "          49, 50, 51, 52, 53, 54, 55, 56, 57, 58, 59, 60, 61, 62, 63, 64, 65, 66,\n",
    "          67, 68, 69, 70, 71, 72, 73, 74, 75, 76, 77, 80, 81, 82, 83, 84, 85, 86,\n",
    "          87, 88, 89, 90, 91, 92, 93, 94, 95, 96\n",
    "         ]\n",
    "    #gonna turn those indexes into names just to ensure i drop the right\n",
    "    #columns\n",
    "    ixn = original_data.columns[ix]\n",
    "    \n",
    "    #verbose option\n",
    "    if(verbose):\n",
    "        print(\"Dropping Columns:\\n\")\n",
    "        for col in ixn:\n",
    "            print(col)\n",
    "    \n",
    "    pruned_data = original_data #copy data for pruned data\n",
    "    #original_data_size = np.sum(original_data.memory_usage(deep=True)) #how big is the data\n",
    "\n",
    "    #Prune Columns\n",
    "    pruned_data = pruned_data.drop(pruned_data.columns[ix], axis=1) #prune columns\n",
    "    \n",
    "    return pruned_data"
   ]
  },
  {
   "cell_type": "code",
   "execution_count": 714,
   "metadata": {
    "collapsed": true
   },
   "outputs": [],
   "source": [
    "#prune the game logs\n",
    "def prune_gl_data(original_data, verbose=False):\n",
    "    #columns to drop. Doing by index again because it'd be a huge hassle to\n",
    "    #type hundreds of column names. I will convert the indices to col namse\n",
    "    #and add a verbose flag to see what I've chosen to drop. Again,\n",
    "    #i'm basically just reading the data description on retrosheet and doing\n",
    "    #this by hand. In the future, it would be easier to only pull the data we \n",
    "    #need as opposed to pulling all and then pruning\n",
    "    #gonna use lists to get ranges so i don't have to type tons of nums\n",
    "    ix = [13, 14, 15, 4, 5, 7, 8]\n",
    "    l1 = list(np.arange(78, 101, 1))\n",
    "    l2 = list(np.arange(106, 161, 1))\n",
    "    ix  = ix + l1 + l2 #concat these lists\n",
    "    \n",
    "    #get col names\n",
    "    ixn = original_data.columns[ix]\n",
    "    \n",
    "    #verbose option\n",
    "    if(verbose):\n",
    "        print(\"Dropping Columns:\\n\")\n",
    "        for col in ixn:\n",
    "            print(col)\n",
    "    \n",
    "    pruned_data = original_data #copy data for pruned data\n",
    "    \n",
    "    #Prune Columns\n",
    "    pruned_data = pruned_data.drop(pruned_data.columns[ix], axis=1) #prune columns\n",
    "    \n",
    "    return pruned_data"
   ]
  },
  {
   "cell_type": "markdown",
   "metadata": {},
   "source": [
    "#### Adding Features"
   ]
  },
  {
   "cell_type": "code",
   "execution_count": 715,
   "metadata": {
    "collapsed": true
   },
   "outputs": [],
   "source": [
    "#this method takes the event data and, for each event, adds a column for the\n",
    "#team under which the play is filed, the date of the play (for weather)\n",
    "#and the game of the day\n",
    "def add_ev_metadata(event_data):\n",
    "    #Adding in a bit more data on the team, date, game of day, and also field\n",
    "    event_data['team'] = event_data['game id'].astype(str).str[:3]#storing the team\n",
    "    event_data['date'] = event_data['game id'].astype(str).str[3:-1]#date\n",
    "    event_data['game_of_day'] = event_data['game id'].astype(str).str[-1:]#which game of the day it is\n",
    "    return event_data"
   ]
  },
  {
   "cell_type": "code",
   "execution_count": 716,
   "metadata": {},
   "outputs": [],
   "source": [
    "#takes in park data, city data, and station data respectively.\n",
    "#adds the coordinates and respective weather station to each park entry\n",
    "def add_pk_metadata(pdata, cdata, sdata):\n",
    "    \n",
    "    #adding coordinates\n",
    "    pdata = pdata.merge(cdata, left_on='location', right_on='location', how='left')\n",
    "    \n",
    "    #now find the nearest weather station\n",
    "    pdata['station'] = 'na'#create an empty station col\n",
    "    sdata['parkid'] = 'zz'\n",
    "    \n",
    "    #empty combined frame\n",
    "    combined = pd.DataFrame() #empty combined frame\n",
    "    \n",
    "    #drop parks with no coordinates bc we won't have their weather data\n",
    "    pdata = pdata.dropna(axis=0)\n",
    "    numParks = pdata.shape[0]\n",
    "    \n",
    "    #defining the columns of the new frame\n",
    "    #combining park and station data\n",
    "    ids = pdata['parkid'].append(sdata['parkid'], ignore_index=True) #add this to frame\n",
    "    lats = pdata['lat'].append(sdata['lat'], ignore_index=True) #add latitudes\n",
    "    lngs = pdata['lng'].append(sdata['lng'], ignore_index=True) #and lngs\n",
    "    stations = pdata['station'].append(sdata['id'], ignore_index=True) #adding a station col\n",
    "    \n",
    "    #adding these to the combined frame\n",
    "    combined['lng'] = lngs\n",
    "    combined['lat'] = lats\n",
    "    combined['parkid'] = ids\n",
    "    combined['station'] = stations\n",
    "    \n",
    "    #gonna use a nearest neighbors algorithm that uses lat and long\n",
    "    #to find the single nearest neighbor to each point.\n",
    "    #will use the combined cities and stations data so that it matches\n",
    "    #a city with the nearest station. I'm using cities because there are multiple\n",
    "    #parks per city, so they would just match with each other instead of a station.\n",
    "    X = np.column_stack((combined['lat'],combined['lng']))\n",
    "    nbrs = NearestNeighbors(n_neighbors=20).fit(X)\n",
    "    \n",
    "    #only want to find the neighbors for the parks \n",
    "    #this is the first 252 rows\n",
    "    X2 = X[:numParks]\n",
    "    \n",
    "    #get the distances and indices\n",
    "    d, i  = nbrs.kneighbors(X2)\n",
    "    \n",
    "    pairs = [] #pairs of indices for cities and stations in the combined frame\n",
    "    prks = [] #hold park indices\n",
    "    stats = [] #hold station indices\n",
    "    for park, r in enumerate(i): #for each set of neighbors\n",
    "        found = False #if the best match hasn't been found\n",
    "        for ix in r: #check each of the best pairs\n",
    "            if(found): #if the best neighbor has been found break\n",
    "                break\n",
    "            if(ix>=numParks and not found): #if the neighbor is NOT another city\n",
    "                pairs.append([park,ix]) #add the pair\n",
    "                prks.append(park) #adding park indices\n",
    "                stats.append(ix) #adding station indices\n",
    "                found = True #mark that a station has been found     \n",
    "    \n",
    "    #add stations to park data\n",
    "    pdata.station = stats\n",
    "    pdata.station = pdata.station.apply(lambda s: combined.iloc[int(s), 3])\n",
    "    \n",
    "    return pdata"
   ]
  },
  {
   "cell_type": "markdown",
   "metadata": {},
   "source": [
    "#### Converting Categorical Data to Ints"
   ]
  },
  {
   "cell_type": "code",
   "execution_count": 812,
   "metadata": {},
   "outputs": [],
   "source": [
    "#this function takes any categorical data that can be represented as\n",
    "#ints and converts it. it also reduces all int columns\n",
    "#to the smallest possible integer form\n",
    "def reduce_ev_nums(original_data):\n",
    "    redata = original_data #reduced event data\n",
    "    \n",
    "    #are there runners on bases?\n",
    "    redata['1st'] = redata['first runner'].apply(lambda f: 1 if pd.notnull(f) else None)\n",
    "    redata['2nd'] = redata['second runner'].apply(lambda f: 1 if pd.notnull(f) else None)\n",
    "    redata['3rd'] = redata['third runner'].apply(lambda f: 1 if pd.notnull(f) else None)\n",
    "    redata['runners'] = redata[['1st','2nd','3rd']].sum(axis=1)\n",
    "    #drop the str cols\n",
    "    runners = ['first runner','second runner','third runner']\n",
    "    redata = redata.drop(runners, axis=1)\n",
    "    \n",
    "    #score difference\n",
    "    redata['diff'] = redata['home score'] - redata['vis score']\n",
    "    redata.loc[redata['batting team']==0, 'diff'] = redata.loc[redata['batting team']==0, 'diff']*-1\n",
    "    \n",
    "    #I noticed all the features I wanted to convert were all binary data for\n",
    "    #flags and which hand people use. So gonna iterate through the features\n",
    "    #and convert features with the word flag or hand\n",
    "    for column in redata.columns:#go through the cols\n",
    "        #if the feature name has hand or flag\n",
    "        if(('hand' in column.lower()) or ('flag' in column.lower())):\n",
    "            redata[column] = redata[column].astype('category')#set to cat\n",
    "\n",
    "    #convert them to ints            \n",
    "    cat_columns = redata.select_dtypes(['category']).columns #get cat cols\n",
    "    redata[cat_columns] = redata[cat_columns].apply(lambda x: x.cat.codes) #cast to int\n",
    "    \n",
    "    #downcast all to smallest acceptable int size\n",
    "    ints = redata.select_dtypes(include=['int']) #get any int cols\n",
    "    ints = ints.apply(pd.to_numeric, downcast='unsigned') #downcast them\n",
    "    \n",
    "    #downcast floats\n",
    "    floats = redata.select_dtypes(include=['float']) #get floats\n",
    "    floats = floats.apply(pd.to_numeric,downcast='float') #downcast them\n",
    "    \n",
    "    #now replace the numeric columns with their reduced ones\n",
    "    redata[ints.columns] = ints #replace with reduced ints\n",
    "    redata[floats.columns] = floats #replace with reduced floats\n",
    "    \n",
    "    #retyped_data_size = np.sum(redata.memory_usage(deep=True)) #store size\n",
    "    return redata"
   ]
  },
  {
   "cell_type": "code",
   "execution_count": 773,
   "metadata": {
    "collapsed": true
   },
   "outputs": [],
   "source": [
    "#this function will reduce the numbers in the game log data\n",
    "def reduce_gl_nums(original_data, verbose=False):\n",
    "    redata = original_data #copy data\n",
    "    \n",
    "    #manually looked through at which object cols could be cast to ints and \n",
    "    #reduced. Converting some like player name would cause us to lose info\n",
    "    #at the same time, we aren't really interested in specific pitchers so \n",
    "    #that may be a good idea to reduce them as well. future decisions.\n",
    "    ixn = ['DayOfWeek','DayNight'] #names for verbose\n",
    "    ix = [] #to store indices of names\n",
    "    for i in ixn: #iterate over col names\n",
    "        ix.append(original_data.columns.get_loc(i)) #get index from name\n",
    "    \n",
    "    #print names if verbose\n",
    "    if(verbose):\n",
    "        print(\"Removing Columns:\\n\")\n",
    "        for col in ixn:\n",
    "            print(col)\n",
    "            \n",
    "    #convert ints to categories\n",
    "    for col in ixn:\n",
    "        redata[col] = redata[col].astype('category')#cast to category\n",
    "    \n",
    "    #convert categories to ints\n",
    "    cat_cols = redata.select_dtypes(['category']).columns #get cat cols\n",
    "    redata[cat_cols] = redata[cat_cols].apply(lambda x: x.cat.codes) #to int\n",
    "    \n",
    "    #downcast ints\n",
    "    ints = redata.select_dtypes(include=['int']) #get ints\n",
    "    ints = ints.apply(pd.to_numeric,downcast='unsigned') #downcast them\n",
    "    \n",
    "    #downcast floats\n",
    "    floats = redata.select_dtypes(include=['float']) #get floats\n",
    "    floats = floats.apply(pd.to_numeric,downcast='float') #downcast them\n",
    "    \n",
    "    #now replace the numeric columns with their reduced ones\n",
    "    redata[ints.columns] = ints #replace with reduced ints\n",
    "    redata[floats.columns] = floats #replace with reduced floats\n",
    "    \n",
    "    return redata #return the reduced data"
   ]
  },
  {
   "cell_type": "markdown",
   "metadata": {},
   "source": [
    "#### Putting It All Together"
   ]
  },
  {
   "cell_type": "code",
   "execution_count": 774,
   "metadata": {
    "collapsed": true
   },
   "outputs": [],
   "source": [
    "# this function just combines the preprocessing steps so you don't have to\n",
    "# it takes a dataframe and a frame type eg: ev for event, gl for game log,\n",
    "# pk for park, wt for weather. It will then return the processed data and,\n",
    "# if you pass verbose as True, it'll return the dataframe size at each step\n",
    "# stored in a list\n",
    "def process_data(data, data_type, verbose=False):\n",
    "    sizes = [] #to store data sizes\n",
    "    reduced = pd.DataFrame() #to store reduced data\n",
    "    \n",
    "    #store first mem usage for verbose\n",
    "    sizes.append(np.sum(data.memory_usage(deep=True)))\n",
    "    \n",
    "    #process depending on data type\n",
    "    if(data_type=='ev'): #event data\n",
    "        reduced = prune_ev_data(data) #prune\n",
    "        sizes.append(np.sum(reduced.memory_usage(deep=True))) #verbose\n",
    "        reduced = reduce_ev_nums(reduced) #downcast numerics\n",
    "        sizes.append(np.sum(reduced.memory_usage(deep=True))) #verbose\n",
    "    elif(data_type=='gl'):\n",
    "        reduced = prune_gl_data(data) #prune\n",
    "        sizes.append(np.sum(reduced.memory_usage(deep=True))) #verbose\n",
    "        reduced = reduce_gl_nums(reduced) #downcast numerics\n",
    "        sizes.append(np.sum(reduced.memory_usage(deep=True))) #verbose\n",
    "    else:\n",
    "        print(\"Please enter a valid data type.\")\n",
    "        return\n",
    "    \n",
    "    #return depending on verbose\n",
    "    if(verbose): #return the sizes\n",
    "        return reduced, sizes #like so\n",
    "    else: #if they don't want verbose just return data\n",
    "        return reduced"
   ]
  },
  {
   "cell_type": "markdown",
   "metadata": {},
   "source": [
    "# Creating Data Frames and Processing Them"
   ]
  },
  {
   "cell_type": "code",
   "execution_count": 800,
   "metadata": {},
   "outputs": [
    {
     "name": "stdout",
     "output_type": "stream",
     "text": [
      "(106283, 5)\n"
     ]
    }
   ],
   "source": [
    "evdata = get_event_data(-1) #get event data\n",
    "gldata = get_gl_data() #get game log data\n",
    "pkdata = get_park_data() #get park data\n",
    "ctdata = get_ct_data() #get city data\n",
    "stdata = get_st_data() #get the station data\n",
    "gl2data = get_gl2_data() #bgame game log data"
   ]
  },
  {
   "cell_type": "code",
   "execution_count": 937,
   "metadata": {},
   "outputs": [
    {
     "name": "stdout",
     "output_type": "stream",
     "text": [
      "Getting weather data...\n"
     ]
    }
   ],
   "source": [
    "#Getting weather data\n",
    "wedata = get_weather_data(rpkdata)"
   ]
  },
  {
   "cell_type": "code",
   "execution_count": 813,
   "metadata": {},
   "outputs": [],
   "source": [
    "#Here is an example of how to use the process data function \n",
    "revdata = process_data(evdata, 'ev') # process event data\n",
    "rgldata = process_data(gldata, 'gl') #process gl data\n",
    "rpkdata = add_pk_metadata(pkdata, ctdata, stdata) #process park data"
   ]
  },
  {
   "cell_type": "code",
   "execution_count": 814,
   "metadata": {
    "collapsed": true
   },
   "outputs": [],
   "source": [
    "get = ['game id','day/night flag','attendance','temperature','wind direction',\n",
    "      'wind speed','field condition','precipitation','sky']\n",
    "weather = gl2data[get]\n",
    "revdata"
   ]
  },
  {
   "cell_type": "code",
   "execution_count": 820,
   "metadata": {},
   "outputs": [],
   "source": [
    "first_n_rows = 100000\n",
    "events = revdata.iloc[:-first_n_rows,:]"
   ]
  },
  {
   "cell_type": "markdown",
   "metadata": {},
   "source": [
    "# Analysis"
   ]
  },
  {
   "cell_type": "code",
   "execution_count": 924,
   "metadata": {},
   "outputs": [],
   "source": [
    "def batting_average_loc(evdata, feature=-1, val=-1):\n",
    "    # Create new dataframe with data to calculate batting average\n",
    "    #oBatterData = evdata[['game id', 'batter', 'event type', 'batter event flag', 'ab flag', 'hit value','outs','balls','inning','strikes','pitcher hand','batter hand']].copy()\n",
    "    oBatterData = evdata.copy()\n",
    "    #\n",
    "    if(feature!=-1):\n",
    "        oBatterData =  oBatterData.loc[oBatterData[feature]==val]\n",
    "    \n",
    "    if oBatterData.shape[0]==0:\n",
    "        return -1\n",
    "    \n",
    "    # Calculate batters' at bats and hits per game\n",
    "    BatterData = oBatterData.loc[(oBatterData['batter event flag'] == 1) & (oBatterData['ab flag'] == 1)]\n",
    "    BatterData2 = BatterData.loc[(BatterData['batter event flag'] == 1) & (BatterData['ab flag'] == 1) & (BatterData['hit value'] > 0)]\n",
    "    BatterData = BatterData.groupby(['game id', 'batter']).size().reset_index(name='AB')\n",
    "    BatterData2 = BatterData2.groupby(['game id', 'batter']).size().reset_index(name='H')\n",
    "\n",
    "    #BatterData.loc[(BatterData['batter event flag'] == 1) & (BatterData['ab flag'] == 1)]['hit value'].groupby(['batter'])\n",
    "\n",
    "    BatterData3 = oBatterData.loc[(oBatterData['batter event flag'] == 1) & (oBatterData['ab flag'] == 1) & (oBatterData['hit value'] == 0)]\n",
    "    BatterData3 = BatterData3.groupby(['game id', 'batter']).size().reset_index(name='strikeouts')\n",
    "\n",
    "    bat3 = BatterData.merge(BatterData2, left_on=['batter','game id'], right_on=['batter','game id'], how='outer')\n",
    "    bat3 = bat3.merge(BatterData3, left_on=['batter','game id'], right_on=['batter','game id'], how='outer')\n",
    "\n",
    "    bat3['BA'] = bat3.apply(lambda row: row['H']/row['AB'],axis=1)\n",
    "\n",
    "    bat3 = bat3.fillna(value=0, axis=1)\n",
    "    \n",
    "    return bat3"
   ]
  },
  {
   "cell_type": "code",
   "execution_count": 833,
   "metadata": {
    "collapsed": true
   },
   "outputs": [],
   "source": [
    "#just a simple method to run hypothesis testing\n",
    "def hyp_test(data, feature, null):\n",
    "    z = 1.96 # z val\n",
    "    alpha = 0.05 # alpha val for 95% confidence interval\n",
    "    mean = data[feature].mean() # sample mean\n",
    "    std = data[feature].std() # sample std\n",
    "    n = data.shape[0] # n\n",
    "    dof = n-1\n",
    "    test_stat = (mean - null)/(std/(n**0.5)) # test stat\n",
    "    #p_val = stats.norm.cdf(-abs(test_stat))\n",
    "    if(abs(test_stat)>z):\n",
    "        print(\"Null rejected with z: {0:.4}\".format(test_stat))\n",
    "        print(\"Sample Mean: {0:.4}\".format(mean))\n",
    "        print(\"Null Mean: {0:.4}\".format(null))\n",
    "    else:\n",
    "        print(\"Null not rejected with z: {0:.4}\".format(test_stat))\n",
    "        print(\"Sample Mean: {0:.4}\".format(mean))\n",
    "        print(\"Null Mean: {0:.4}\".format(null))\n",
    "    print(\"\\n\")"
   ]
  },
  {
   "cell_type": "code",
   "execution_count": 890,
   "metadata": {},
   "outputs": [],
   "source": [
    "std_bt_average = batting_average_loc(reduced)"
   ]
  },
  {
   "cell_type": "code",
   "execution_count": 891,
   "metadata": {},
   "outputs": [],
   "source": [
    "BA = std_bt_average['BA'].mean()\n",
    "BAs = std_bt_average['BA'].std()\n",
    "BAn = std_bt_average.shape[0]"
   ]
  },
  {
   "cell_type": "code",
   "execution_count": 918,
   "metadata": {},
   "outputs": [
    {
     "name": "stdout",
     "output_type": "stream",
     "text": [
      "0.24654756217419604 0.26925064977459606 2781028\n"
     ]
    }
   ],
   "source": [
    "print(BA, BAs, BAn)"
   ]
  },
  {
   "cell_type": "code",
   "execution_count": null,
   "metadata": {},
   "outputs": [],
   "source": []
  },
  {
   "cell_type": "markdown",
   "metadata": {},
   "source": [
    "#### Analysis on the 9th Inning High Leverage Situraions"
   ]
  },
  {
   "cell_type": "code",
   "execution_count": 889,
   "metadata": {},
   "outputs": [],
   "source": [
    "lev = ['inning','outs','runners','diff','batting team','game id', 'batter', 'event type', 'batter event flag', 'ab flag', 'hit value']\n",
    "reduced = events[lev].copy()\n",
    "ninth_inn = reduced.loc[reduced.inning==9] #get the ninth inning\n",
    "pos_run = [0,1,2,3]\n",
    "pos_outs = [0,1,2]\n",
    "\n",
    "close = ninth_inn.loc[ninth_inn['diff'].abs()<=2] #close game\n",
    "two_runners = ninth_inn.loc[ninth_inn['runners']>=2] #two or more runners\n",
    "two_runn_no_outs = two_runners.loc[two_runners['outs']==0] #2 runners no outs\n",
    "two_runn_2_outs = two_runners.loc[two_runners['outs']==2] #2 runners 2 outs\n",
    "\n",
    "#calculate each BA frame\n",
    "nBA = batting_average_loc(ninth_inn) #ninth inning\n",
    "cBA = batting_average_loc(close) #close game\n",
    "trBA = batting_average_loc(two_runners) #two runners\n",
    "trnoBA = batting_average_loc(two_runn_no_outs) #two runners no outs\n",
    "trtoBA = batting_average_loc(two_runn_2_outs) #two runners two outs"
   ]
  },
  {
   "cell_type": "code",
   "execution_count": 893,
   "metadata": {},
   "outputs": [
    {
     "name": "stdout",
     "output_type": "stream",
     "text": [
      "BAs: 0.24418771042634707 0.2523177442185288 0.2771985772108426 0.23020264928754602\n",
      "Normal Mean\n",
      "0.24654756217419604\n",
      "P Values\n",
      "0.000559215425176 0.000559241310791 8.23302200255e-06 1.34014810793e-18 6.51932098381e-19\n",
      "Means\n",
      "0.24691454460240586 0.24418771042634707 0.2523177442185288 0.2771985772108426 0.23020264928754602\n"
     ]
    }
   ],
   "source": [
    "#now hypothesis testing these results against the mean\n",
    "z = 1.645\n",
    "alpha = 0.05\n",
    "null_mean = 0\n",
    "\n",
    "#calculate the batting averages\n",
    "nba = nBA['BA'].mean() #9th inning\n",
    "cba = cBA['BA'].mean() #close game \n",
    "trba = trBA['BA'].mean() #two runners\n",
    "trnoba = trnoBA['BA'].mean() #two runners no outs\n",
    "trtoba = trtoBA['BA'].mean() #two runners two outs\n",
    "\n",
    "print(\"BAs:\", cba, trba, trnoba, trtoba)\n",
    "\n",
    "#standard deviations\n",
    "nbas = nBA['BA'].std()\n",
    "cbas = cBA['BA'].std()\n",
    "trbas = trBA['BA'].std()\n",
    "trnobas = trnoBA['BA'].std()\n",
    "trtobas = trtoBA['BA'].std()\n",
    "\n",
    "#degrees of freedom\n",
    "n0 = nBA.shape[0]\n",
    "n1 = cBA.shape[0]\n",
    "n2 = trBA.shape[0]\n",
    "n3 = trnoBA.shape[0]\n",
    "n4 = trtoBA.shape[0]\n",
    "\n",
    "#test stats\n",
    "t0 = (nba - BA)/(((nbas**2 / n0)+(BAs**2 / BAn))**0.5)\n",
    "t1 = (cba - BA)/(((cbas**2 / n1)+(BAs**2 / BAn))**0.5)\n",
    "t2 = (trba - BA)/(((trbas**2 / n2)+(BAs**2 / BAn))**0.5)\n",
    "t3 = (trnoba - BA)/(((trnobas**2 / n3)+(BAs**2 / BAn))**0.5)\n",
    "t4 = (trtoba - BA)/(((trtobas**2 / n4)+(BAs**2 / BAn))**0.5)\n",
    "\n",
    "#p values\n",
    "p0 = stats.t.cdf(-abs(t1), n0)\n",
    "p1 = stats.t.cdf(-abs(t1), n1)\n",
    "p2 = stats.t.cdf(-abs(t2), n2)\n",
    "p3 = stats.t.cdf(-abs(t3), n3)\n",
    "p4 = stats.t.cdf(-abs(t4), n4)\n",
    "print(\"Normal Mean\")\n",
    "print(BA)\n",
    "print(\"P Values\")\n",
    "print(p0, p1, p2, p3, p4)\n",
    "print(\"Means\")\n",
    "print(nba, cba, trba, trnoba, trtoba)"
   ]
  },
  {
   "cell_type": "code",
   "execution_count": 894,
   "metadata": {},
   "outputs": [
    {
     "data": {
      "image/png": "[encoded data removed]",
      "text/plain": [
       "<matplotlib.figure.Figure at 0x2024872f1d0>"
      ]
     },
     "metadata": {},
     "output_type": "display_data"
    }
   ],
   "source": [
    "x = [ 1, 2, 3, 4, 5]\n",
    "y = [nba, cba, trba, trnoba, trtoba]\n",
    "lbs = ['9th Inning', 'Difference Between Scores <= 2', 'Difference Between Scores <= 2\\n 2 Runners On Base','Difference Between Scores <= 2\\n 2 Runners On Base, No Outs','Difference Between Scores <= 2\\n 2 Runners On Base, 2 Outs']\n",
    "fig, ax = plt.subplots(figsize=(8,4))\n",
    "plt.plot(x, y, 'g')\n",
    "plt.plot([-1,7],[BA,BA],'r',label='Standard Batting Average')\n",
    "plt.scatter(x, y, c='b', marker='o', label='Batting Average Per Situation')\n",
    "ax.set_xlim(0,6)\n",
    "ax.set_ylim(0.2, 0.3)\n",
    "ax.set_ylabel('Batting Average')\n",
    "ax.set_xlabel('Game Situation')\n",
    "ax.set_title('Batting Average vs Game Situation During 9th Inning')\n",
    "plt.xticks(x, lbs, fontsize=10, rotation=45)\n",
    "ax.legend()\n",
    "plt.show()"
   ]
  },
  {
   "cell_type": "markdown",
   "metadata": {},
   "source": [
    "#### Batting Average vs Difference In Scores"
   ]
  },
  {
   "cell_type": "code",
   "execution_count": 925,
   "metadata": {},
   "outputs": [
    {
     "name": "stdout",
     "output_type": "stream",
     "text": [
      "Finding BA for score difference -30...\n",
      "Finding BA for score difference -29...\n",
      "Finding BA for score difference -28...\n",
      "Finding BA for score difference -27...\n",
      "Finding BA for score difference -26...\n",
      "Finding BA for score difference -25...\n",
      "Finding BA for score difference -24...\n",
      "Finding BA for score difference -23...\n",
      "Finding BA for score difference -22...\n",
      "Finding BA for score difference -21...\n",
      "Finding BA for score difference -20...\n",
      "Finding BA for score difference -19...\n",
      "Finding BA for score difference -18...\n",
      "Finding BA for score difference -17...\n",
      "Finding BA for score difference -16...\n",
      "Finding BA for score difference -15...\n",
      "Finding BA for score difference -14...\n",
      "Finding BA for score difference -13...\n",
      "Finding BA for score difference -12...\n",
      "Finding BA for score difference -11...\n",
      "Finding BA for score difference -10...\n",
      "Finding BA for score difference -9...\n",
      "Finding BA for score difference -8...\n",
      "Finding BA for score difference -7...\n",
      "Finding BA for score difference -6...\n",
      "Finding BA for score difference -5...\n",
      "Finding BA for score difference -4...\n",
      "Finding BA for score difference -3...\n",
      "Finding BA for score difference -2...\n",
      "Finding BA for score difference -1...\n",
      "Finding BA for score difference 0...\n",
      "Finding BA for score difference 1...\n",
      "Finding BA for score difference 2...\n",
      "Finding BA for score difference 3...\n",
      "Finding BA for score difference 4...\n",
      "Finding BA for score difference 5...\n",
      "Finding BA for score difference 6...\n",
      "Finding BA for score difference 7...\n",
      "Finding BA for score difference 8...\n",
      "Finding BA for score difference 9...\n",
      "Finding BA for score difference 10...\n",
      "Finding BA for score difference 11...\n",
      "Finding BA for score difference 12...\n",
      "Finding BA for score difference 13...\n",
      "Finding BA for score difference 14...\n",
      "Finding BA for score difference 15...\n",
      "Finding BA for score difference 16...\n",
      "Finding BA for score difference 17...\n",
      "Finding BA for score difference 18...\n",
      "Finding BA for score difference 19...\n",
      "Finding BA for score difference 20...\n",
      "Finding BA for score difference 21...\n",
      "Finding BA for score difference 22...\n",
      "Finding BA for score difference 23...\n",
      "Finding BA for score difference 24...\n",
      "Finding BA for score difference 25...\n",
      "Finding BA for score difference 26...\n",
      "Finding BA for score difference 27...\n",
      "Finding BA for score difference 28...\n",
      "Finding BA for score difference 29...\n",
      "Finding BA for score difference 30...\n"
     ]
    }
   ],
   "source": [
    "#slicing on difference score differences\n",
    "diffs = {\n",
    "    -30:0,-29:0,-28:0,-27:0,-26:0,-25:0, -24:0, -23:0, -22:0, -21:0,\n",
    "    -20:0,-19:0,-18:0,-17:0,-16:0,-15:0,-14:0,-13:0,-12:0,-11:0,\n",
    "    -10:0, -9:0, -8:0, -7:0, -6:0, -5:0, -4:0, -3:0, -2:0, -1:0,\n",
    "    0:0, 1:0,2:0,3:0,4:0,5:0,6:0,7:0,8:0,9:0,10:0,\n",
    "    11:0,12:0,13:0,14:0,15:0,16:0,17:0,18:0,19:0,20:0,21:0,\n",
    "    22:0,23:0,24:0,25:0,26:0,27:0,28:0,29:0,30:0\n",
    "}\n",
    "for key in diffs:\n",
    "    print(\"Finding BA for score difference {0}...\".format(key))\n",
    "    diffs[key] = batting_average_loc(reduced,'diff',key)"
   ]
  },
  {
   "cell_type": "code",
   "execution_count": 928,
   "metadata": {},
   "outputs": [
    {
     "name": "stdout",
     "output_type": "stream",
     "text": [
      "Null Hypothesis 0.24655 rejected with mean 0.0 and T value 2.1443e-07 for diff -27\n",
      "Failed To Reject Null Hypothesis 0.24655 with mean 0.5 and P value 0.11284\n",
      "Failed To Reject Null Hypothesis 0.24655 with mean 0.0 and P value nan\n",
      "Null Hypothesis 0.24655 rejected with mean 0.0 and T value 1.143e-15 for diff -23\n",
      "Failed To Reject Null Hypothesis 0.24655 with mean 0.28261 and P value 0.12208\n",
      "Null Hypothesis 0.24655 rejected with mean 0.19388 and T value 0.010441 for diff -21\n",
      "Failed To Reject Null Hypothesis 0.24655 with mean 0.24638 and P value 0.49689\n",
      "Null Hypothesis 0.24655 rejected with mean 0.21176 and T value 0.0024474 for diff -19\n",
      "Null Hypothesis 0.24655 rejected with mean 0.29075 and T value 0.00052213 for diff -18\n",
      "Null Hypothesis 0.24655 rejected with mean 0.27342 and T value 0.0034532 for diff -17\n",
      "Null Hypothesis 0.24655 rejected with mean 0.25818 and T value 0.037921 for diff -16\n",
      "Null Hypothesis 0.24655 rejected with mean 0.2631 and T value 0.00078858 for diff -15\n",
      "Null Hypothesis 0.24655 rejected with mean 0.26011 and T value 0.00017406 for diff -14\n",
      "Null Hypothesis 0.24655 rejected with mean 0.26608 and T value 8.4595e-12 for diff -13\n",
      "Null Hypothesis 0.24655 rejected with mean 0.27153 and T value 1.6182e-29 for diff -12\n",
      "Null Hypothesis 0.24655 rejected with mean 0.27795 and T value 6.6606e-74 for diff -11\n",
      "Null Hypothesis 0.24655 rejected with mean 0.26313 and T value 3.9692e-37 for diff -10\n",
      "Null Hypothesis 0.24655 rejected with mean 0.26029 and T value 1.8708e-41 for diff -9\n",
      "Null Hypothesis 0.24655 rejected with mean 0.26229 and T value 1.0382e-83 for diff -8\n",
      "Null Hypothesis 0.24655 rejected with mean 0.26534 and T value 4.0191e-179 for diff -7\n",
      "Null Hypothesis 0.24655 rejected with mean 0.26314 and T value 1.9368e-216 for diff -6\n",
      "Null Hypothesis 0.24655 rejected with mean 0.26248 and T value 1.6884e-296 for diff -5\n",
      "Null Hypothesis 0.24655 rejected with mean 0.25963 and T value 2.4929e-287 for diff -4\n",
      "Null Hypothesis 0.24655 rejected with mean 0.25777 and T value 6.0745e-290 for diff -3\n",
      "Null Hypothesis 0.24655 rejected with mean 0.25755 and T value 0.0 for diff -2\n",
      "Null Hypothesis 0.24655 rejected with mean 0.26032 and T value 0.0 for diff -1\n"
     ]
    },
    {
     "name": "stderr",
     "output_type": "stream",
     "text": [
      "C:\\Users\\Vail Dorchester\\Anaconda3\\lib\\site-packages\\scipy\\stats\\_distn_infrastructure.py:879: RuntimeWarning: invalid value encountered in greater\n",
      "  return (self.a < x) & (x < self.b)\n",
      "C:\\Users\\Vail Dorchester\\Anaconda3\\lib\\site-packages\\scipy\\stats\\_distn_infrastructure.py:879: RuntimeWarning: invalid value encountered in less\n",
      "  return (self.a < x) & (x < self.b)\n",
      "C:\\Users\\Vail Dorchester\\Anaconda3\\lib\\site-packages\\scipy\\stats\\_distn_infrastructure.py:1735: RuntimeWarning: invalid value encountered in greater_equal\n",
      "  cond2 = (x >= self.b) & cond0\n"
     ]
    },
    {
     "name": "stdout",
     "output_type": "stream",
     "text": [
      "Null Hypothesis 0.24655 rejected with mean 0.26602 and T value 0.0 for diff 0\n",
      "Null Hypothesis 0.24655 rejected with mean 0.26494 and T value 0.0 for diff 1\n",
      "Null Hypothesis 0.24655 rejected with mean 0.26681 and T value 0.0 for diff 2\n",
      "Null Hypothesis 0.24655 rejected with mean 0.2681 and T value 0.0 for diff 3\n",
      "Null Hypothesis 0.24655 rejected with mean 0.26955 and T value 0.0 for diff 4\n",
      "Null Hypothesis 0.24655 rejected with mean 0.2651 and T value 0.0 for diff 5\n",
      "Null Hypothesis 0.24655 rejected with mean 0.26585 and T value 2.2502e-265 for diff 6\n",
      "Null Hypothesis 0.24655 rejected with mean 0.26611 and T value 4.4148e-176 for diff 7\n",
      "Null Hypothesis 0.24655 rejected with mean 0.26693 and T value 3.0485e-122 for diff 8\n",
      "Null Hypothesis 0.24655 rejected with mean 0.27096 and T value 3.7507e-108 for diff 9\n",
      "Null Hypothesis 0.24655 rejected with mean 0.26479 and T value 2.256e-39 for diff 10\n",
      "Null Hypothesis 0.24655 rejected with mean 0.25862 and T value 3.0575e-12 for diff 11\n",
      "Null Hypothesis 0.24655 rejected with mean 0.26288 and T value 8.5968e-13 for diff 12\n",
      "Null Hypothesis 0.24655 rejected with mean 0.25992 and T value 6.9063e-06 for diff 13\n",
      "Null Hypothesis 0.24655 rejected with mean 0.25402 and T value 0.032841 for diff 14\n",
      "Null Hypothesis 0.24655 rejected with mean 0.29827 and T value 1.2539e-17 for diff 15\n",
      "Null Hypothesis 0.24655 rejected with mean 0.27199 and T value 0.0002878 for diff 16\n",
      "Null Hypothesis 0.24655 rejected with mean 0.29341 and T value 1.6472e-05 for diff 17\n",
      "Failed To Reject Null Hypothesis 0.24655 with mean 0.26531 and P value 0.08514\n",
      "Null Hypothesis 0.24655 rejected with mean 0.28417 and T value 0.01389 for diff 19\n",
      "Null Hypothesis 0.24655 rejected with mean 0.33077 and T value 0.0011143 for diff 20\n",
      "Null Hypothesis 0.24655 rejected with mean 0.36957 and T value 0.0003157 for diff 21\n",
      "Null Hypothesis 0.24655 rejected with mean 0.1875 and T value 0.020875 for diff 22\n",
      "Failed To Reject Null Hypothesis 0.24655 with mean 0.375 and P value 0.10855\n",
      "Failed To Reject Null Hypothesis 0.24655 with mean 0.5 and P value 0.30202\n",
      "Failed To Reject Null Hypothesis 0.24655 with mean 0.5 and P value 0.30202\n",
      "Failed To Reject Null Hypothesis 0.24655 with mean 0.33333 and P value 0.3481\n",
      "Failed To Reject Null Hypothesis 0.24655 with mean 0.0 and P value nan\n",
      "0.2637806238051114\n",
      "0.24654756217419604\n"
     ]
    }
   ],
   "source": [
    "#getting the actual means and hyp testing\n",
    "diffbas = []\n",
    "stds = []\n",
    "ns = []\n",
    "tests = []\n",
    "ps = []\n",
    "z = 1.96\n",
    "a = 0.05\n",
    "frames = []\n",
    "\n",
    "#buncha p tests\n",
    "for key in diffs:\n",
    "    #empty frame\n",
    "    try:\n",
    "        if(diffs[key]==-1):\n",
    "            continue\n",
    "    except:\n",
    "        1==1\n",
    "    m = diffs[key]['BA'].mean()\n",
    "    s = diffs[key]['BA'].var()\n",
    "    n = diffs[key].shape[0]\n",
    "    t = (m - BA)/(((s**2 / n)+(BAs**2 / BAn))**0.5)\n",
    "    p = stats.t.cdf(-abs(t), n-1)\n",
    "    \n",
    "    diffbas.append(m)\n",
    "    stds.append(s)\n",
    "    ns.append(n)\n",
    "    tests.append(t)\n",
    "    ps.append(p)\n",
    "    \n",
    "    frames.append(diffs[key])\n",
    "    \n",
    "    if(p<a):\n",
    "        print(\"Null Hypothesis {0:.5} rejected with mean {1:.5} and T value {2:.5} for diff {3}\".format(BA, m, p, key))\n",
    "    else:\n",
    "        print(\"Failed To Reject Null Hypothesis {0:.5} with mean {1:.5} and P value {2:.5}\".format(BA, m, p))\n",
    "\n",
    "##\n",
    "wut = pd.concat(frames)\n",
    "print(wut.BA.mean())\n",
    "print(std_bt_average.BA.mean())"
   ]
  },
  {
   "cell_type": "code",
   "execution_count": 935,
   "metadata": {},
   "outputs": [],
   "source": [
    "zero1 = batting_average_loc(reduced)\n",
    "z1 = reduced.loc[reduced['diff']==0]\n",
    "zero = batting_average_loc(z1)\n"
   ]
  },
  {
   "cell_type": "code",
   "execution_count": 936,
   "metadata": {},
   "outputs": [
    {
     "name": "stdout",
     "output_type": "stream",
     "text": [
      "0.26601920033308313\n",
      "0.24654756217419604\n"
     ]
    }
   ],
   "source": [
    "print(zero['BA'].mean())\n",
    "print(zero1['BA'].mean())"
   ]
  },
  {
   "cell_type": "markdown",
   "metadata": {},
   "source": [
    "#### Batting Average vs Number of Outs"
   ]
  },
  {
   "cell_type": "markdown",
   "metadata": {},
   "source": [
    "#### Batting average vs inning"
   ]
  },
  {
   "cell_type": "code",
   "execution_count": 898,
   "metadata": {},
   "outputs": [
    {
     "name": "stdout",
     "output_type": "stream",
     "text": [
      "Finding BA for inning 1...\n",
      "Finding BA for inning 2...\n",
      "Finding BA for inning 3...\n",
      "Finding BA for inning 4...\n",
      "Finding BA for inning 5...\n",
      "Finding BA for inning 6...\n",
      "Finding BA for inning 7...\n",
      "Finding BA for inning 8...\n",
      "Finding BA for inning 9...\n"
     ]
    }
   ],
   "source": [
    "ba_in = {1:0,2:0,3:0,4:0,5:0,6:0,7:0,8:0,9:0}\n",
    "for key in ba_in:\n",
    "    print(\"Finding BA for inning {0}...\".format(key))\n",
    "    ba_in[key] = batting_average_loc(events,'inning',key)"
   ]
  },
  {
   "cell_type": "markdown",
   "metadata": {},
   "source": [
    "##### Hypothesis Testing"
   ]
  },
  {
   "cell_type": "code",
   "execution_count": 899,
   "metadata": {},
   "outputs": [
    {
     "name": "stdout",
     "output_type": "stream",
     "text": [
      "0.4418337527997428\n",
      "Null rejected with z: 38.31\n",
      "Sample Mean: 0.2664\n",
      "Null Mean: 0.2496\n",
      "\n",
      "\n",
      "0.4323918395808407\n",
      "Null not rejected with z: -0.4347\n",
      "Sample Mean: 0.2494\n",
      "Null Mean: 0.2496\n",
      "\n",
      "\n",
      "0.4374758400962926\n",
      "Null rejected with z: 20.36\n",
      "Sample Mean: 0.2585\n",
      "Null Mean: 0.2496\n",
      "\n",
      "\n",
      "0.4407098558449838\n",
      "Null rejected with z: 33.82\n",
      "Sample Mean: 0.2644\n",
      "Null Mean: 0.2496\n",
      "\n",
      "\n",
      "0.4390065501216805\n",
      "Null rejected with z: 26.68\n",
      "Sample Mean: 0.2613\n",
      "Null Mean: 0.2496\n",
      "\n",
      "\n",
      "0.44032495506896335\n",
      "Null rejected with z: 32.3\n",
      "Sample Mean: 0.2638\n",
      "Null Mean: 0.2496\n",
      "\n",
      "\n",
      "0.4377107722124046\n",
      "Null rejected with z: 21.16\n",
      "Sample Mean: 0.2589\n",
      "Null Mean: 0.2496\n",
      "\n",
      "\n",
      "0.4351737795673469\n",
      "Null rejected with z: 10.68\n",
      "Sample Mean: 0.2543\n",
      "Null Mean: 0.2496\n",
      "\n",
      "\n",
      "0.4310200855704479\n",
      "Null rejected with z: -5.48\n",
      "Sample Mean: 0.2469\n",
      "Null Mean: 0.2496\n",
      "\n",
      "\n"
     ]
    }
   ],
   "source": [
    "bain = []\n",
    "for key in ba_in:\n",
    "    bain.append(ba_in[key].BA.mean())\n",
    "    print(ba_in[key].BA.std())\n",
    "    hyp_test(ba_in[key],'BA',ba)"
   ]
  },
  {
   "cell_type": "code",
   "execution_count": 900,
   "metadata": {},
   "outputs": [
    {
     "name": "stdout",
     "output_type": "stream",
     "text": [
      "Y = -0.00106x + 0.264\n"
     ]
    },
    {
     "data": {
      "image/png": "[encoded data removed]",
      "text/plain": [
       "<matplotlib.figure.Figure at 0x2030e3dea20>"
      ]
     },
     "metadata": {},
     "output_type": "display_data"
    }
   ],
   "source": [
    "x = list(ba_in.keys())\n",
    "y = bain\n",
    "x_avg = np.sum(x)/9\n",
    "y_avg = np.sum(y)/9\n",
    "beta = np.sum((x - x_avg)*(y - y_avg))/np.sum((x - x_avg)**2)\n",
    "alpha = y_avg - beta*x_avg\n",
    "x_int = -alpha/ beta\n",
    "print(\"Y = {0:.3}x + {1:.3}\".format(beta, alpha))\n",
    "fig, ax = plt.subplots(figsize=(8,4))\n",
    "plt.plot(x, y, 'g')\n",
    "plt.plot([0, x_int], [alpha, 0], 'b', label='Regression Line')\n",
    "plt.scatter(x, y, c='r', marker='v', label='Batting Average')\n",
    "ax.set_xlim(0,10)\n",
    "ax.set_ylim(0.2, 0.3)\n",
    "ax.set_ylabel('Batting Average')\n",
    "ax.set_xlabel('Inning')\n",
    "ax.set_title('Batting Average vs Inning')\n",
    "ax.legend()\n",
    "plt.show()"
   ]
  },
  {
   "cell_type": "code",
   "execution_count": 809,
   "metadata": {
    "scrolled": true
   },
   "outputs": [
    {
     "data": {
      "text/plain": [
       "game id\n",
       "BOS195004180    0.322000\n",
       "BOS195004192    0.314493\n",
       "BOS195004280    0.263889\n",
       "BOS195004301    0.270833\n",
       "BOS195004302    0.282540\n",
       "Name: BA, dtype: float64"
      ]
     },
     "execution_count": 809,
     "metadata": {},
     "output_type": "execute_result"
    }
   ],
   "source": [
    "gameavg = std_bt_average.groupby('game id')['BA'].agg(np.mean)\n",
    "gameavg.head()"
   ]
  },
  {
   "cell_type": "markdown",
   "metadata": {},
   "source": [
    "#### Seeing which weather factors effect BA and by how much"
   ]
  },
  {
   "cell_type": "code",
   "execution_count": 363,
   "metadata": {},
   "outputs": [
    {
     "name": "stdout",
     "output_type": "stream",
     "text": [
      "(66801, 9)\n",
      "(126746,)\n"
     ]
    },
    {
     "data": {
      "text/html": [
       "<div>\n",
       "<style>\n",
       "    .dataframe thead tr:only-child th {\n",
       "        text-align: right;\n",
       "    }\n",
       "\n",
       "    .dataframe thead th {\n",
       "        text-align: left;\n",
       "    }\n",
       "\n",
       "    .dataframe tbody tr th {\n",
       "        vertical-align: top;\n",
       "    }\n",
       "</style>\n",
       "<table border=\"1\" class=\"dataframe\">\n",
       "  <thead>\n",
       "    <tr style=\"text-align: right;\">\n",
       "      <th></th>\n",
       "      <th>game id</th>\n",
       "      <th>day/night flag</th>\n",
       "      <th>attendance</th>\n",
       "      <th>temperature</th>\n",
       "      <th>wind direction</th>\n",
       "      <th>wind speed</th>\n",
       "      <th>field condition</th>\n",
       "      <th>precipitation</th>\n",
       "      <th>sky</th>\n",
       "      <th>BA</th>\n",
       "    </tr>\n",
       "  </thead>\n",
       "  <tbody>\n",
       "    <tr>\n",
       "      <th>0</th>\n",
       "      <td>BOS195004180</td>\n",
       "      <td>0</td>\n",
       "      <td>31822.0</td>\n",
       "      <td>NaN</td>\n",
       "      <td>NaN</td>\n",
       "      <td>NaN</td>\n",
       "      <td>NaN</td>\n",
       "      <td>NaN</td>\n",
       "      <td>NaN</td>\n",
       "      <td>0.322000</td>\n",
       "    </tr>\n",
       "    <tr>\n",
       "      <th>1</th>\n",
       "      <td>BOS195004192</td>\n",
       "      <td>0</td>\n",
       "      <td>32860.0</td>\n",
       "      <td>NaN</td>\n",
       "      <td>NaN</td>\n",
       "      <td>NaN</td>\n",
       "      <td>NaN</td>\n",
       "      <td>NaN</td>\n",
       "      <td>NaN</td>\n",
       "      <td>0.314493</td>\n",
       "    </tr>\n",
       "    <tr>\n",
       "      <th>2</th>\n",
       "      <td>BOS195004280</td>\n",
       "      <td>0</td>\n",
       "      <td>5333.0</td>\n",
       "      <td>NaN</td>\n",
       "      <td>NaN</td>\n",
       "      <td>NaN</td>\n",
       "      <td>NaN</td>\n",
       "      <td>NaN</td>\n",
       "      <td>NaN</td>\n",
       "      <td>0.263889</td>\n",
       "    </tr>\n",
       "    <tr>\n",
       "      <th>3</th>\n",
       "      <td>BOS195004301</td>\n",
       "      <td>0</td>\n",
       "      <td>NaN</td>\n",
       "      <td>NaN</td>\n",
       "      <td>NaN</td>\n",
       "      <td>NaN</td>\n",
       "      <td>NaN</td>\n",
       "      <td>NaN</td>\n",
       "      <td>NaN</td>\n",
       "      <td>0.270833</td>\n",
       "    </tr>\n",
       "    <tr>\n",
       "      <th>4</th>\n",
       "      <td>BOS195004302</td>\n",
       "      <td>0</td>\n",
       "      <td>34697.0</td>\n",
       "      <td>NaN</td>\n",
       "      <td>NaN</td>\n",
       "      <td>NaN</td>\n",
       "      <td>NaN</td>\n",
       "      <td>NaN</td>\n",
       "      <td>NaN</td>\n",
       "      <td>0.282540</td>\n",
       "    </tr>\n",
       "  </tbody>\n",
       "</table>\n",
       "</div>"
      ],
      "text/plain": [
       "        game id  day/night flag  attendance  temperature  wind direction  \\\n",
       "0  BOS195004180               0     31822.0          NaN             NaN   \n",
       "1  BOS195004192               0     32860.0          NaN             NaN   \n",
       "2  BOS195004280               0      5333.0          NaN             NaN   \n",
       "3  BOS195004301               0         NaN          NaN             NaN   \n",
       "4  BOS195004302               0     34697.0          NaN             NaN   \n",
       "\n",
       "   wind speed  field condition  precipitation  sky        BA  \n",
       "0         NaN              NaN            NaN  NaN  0.322000  \n",
       "1         NaN              NaN            NaN  NaN  0.314493  \n",
       "2         NaN              NaN            NaN  NaN  0.263889  \n",
       "3         NaN              NaN            NaN  NaN  0.270833  \n",
       "4         NaN              NaN            NaN  NaN  0.282540  "
      ]
     },
     "execution_count": 363,
     "metadata": {},
     "output_type": "execute_result"
    }
   ],
   "source": [
    "weather = gl2data[get]\n",
    "print(weather.shape)\n",
    "print(gameavg.shape)\n",
    "weather.head()\n",
    "ga = pd.DataFrame()\n",
    "ga['game id'] = gameavg.keys()\n",
    "ga['BA'] = gameavg.reset_index()['BA']\n",
    "ga.head()\n",
    "weather = weather.merge(ga, left_on='game id', right_on='game id', how='inner')\n",
    "#weather.drop(['BA_x'], axis=1)\n",
    "weather.rename(columns={'BA_y': 'BA'}, inplace=True)\n",
    "weather.head()\n",
    "\n",
    "cols = weather.columns\n",
    "weather[cols] = weather[cols].replace({'0':np.nan, 0:np.nan})\n",
    "weather[cols] = weather[cols].replace({'-1':np.nan, -1:np.nan})\n",
    "\n",
    "weather['day/night flag'] = weather['day/night flag'].astype('category')#cast to category\n",
    "#convert categories to ints\n",
    "cat_cols = weather.select_dtypes(['category']).columns #get cat cols\n",
    "weather[cat_cols] = weather[cat_cols].apply(lambda x: x.cat.codes) #to int\n",
    "weather.head()"
   ]
  },
  {
   "cell_type": "code",
   "execution_count": 371,
   "metadata": {},
   "outputs": [],
   "source": [
    "rw = weather.dropna()\n",
    "y = rw.BA\n",
    "x = rw.drop(['BA', 'game id'], axis=1)\n",
    "trainx, testx, trainy, testy = train_test_split(x, y, random_state=0)"
   ]
  },
  {
   "cell_type": "code",
   "execution_count": 424,
   "metadata": {},
   "outputs": [
    {
     "data": {
      "text/plain": [
       "temperature        0.085970\n",
       "precipitation      0.024802\n",
       "wind direction     0.021322\n",
       "attendance         0.017018\n",
       "day/night flag     0.009281\n",
       "wind speed         0.006130\n",
       "sky                0.002387\n",
       "field condition   -0.032454\n",
       "dtype: float64"
      ]
     },
     "execution_count": 424,
     "metadata": {},
     "output_type": "execute_result"
    }
   ],
   "source": [
    "forest = RandomForestRegressor(max_leaf_nodes=10)\n",
    "forest.fit(trainx, trainy)\n",
    "feature_importance = forest.feature_importances_\n",
    "indices = np.argsort(feature_importance)[::-1]\n",
    "\n",
    "#convert the x data to proper data frame\n",
    "trainx_df = pd.DataFrame(data=trainx)#make it a dataframe\n",
    "trainx_df.columns = x.columns#name the columns\n",
    "testx_df = pd.DataFrame(data=testx)#make it a dataframe\n",
    "testx_df.columns = x.columns#name the columns\n",
    "\n",
    "trainx_df.iloc[indices].columns[:10]\n",
    "\n",
    "important_cols = trainx_df.iloc[indices].columns #these are the important columns\n",
    "#gonna put those columns in a dictionary to hold each of their correlations with sale price\n",
    "feature_corr_dict = dict((key, 0) for key in important_cols) #key is each value in important cols, value is 0 by default\n",
    "for feature in feature_corr_dict: #iterate and calc corr coef for each feature\n",
    "    corr = np.corrcoef(trainx_df[feature], trainy) #correlation matrix\n",
    "    feature_corr_dict[feature]=corr[1,0] #correlation of x,y \n",
    "f_corr = pd.Series(data=feature_corr_dict) #create series from data\n",
    "f_corr = f_corr.sort_values(ascending=False)\n",
    "f_corr = f_corr.dropna()\n",
    "f_corr"
   ]
  },
  {
   "cell_type": "code",
   "execution_count": 425,
   "metadata": {},
   "outputs": [],
   "source": [
    "f_corr = f_corr.reset_index()"
   ]
  },
  {
   "cell_type": "code",
   "execution_count": 426,
   "metadata": {},
   "outputs": [
    {
     "data": {
      "text/plain": [
       "Index(['index', 0], dtype='object')"
      ]
     },
     "execution_count": 426,
     "metadata": {},
     "output_type": "execute_result"
    }
   ],
   "source": [
    "f_corr.iloc[:,1]\n",
    "f_corr.columns"
   ]
  },
  {
   "cell_type": "code",
   "execution_count": 427,
   "metadata": {},
   "outputs": [
    {
     "name": "stdout",
     "output_type": "stream",
     "text": [
      "['temperature', 'precipitation', 'wind direction', 'attendance', 'day/night flag', 'wind speed', 'sky', 'field condition']\n"
     ]
    },
    {
     "data": {
      "image/png": "[encoded data removed]",
      "text/plain": [
       "<matplotlib.figure.Figure at 0x2021b808630>"
      ]
     },
     "metadata": {},
     "output_type": "display_data"
    }
   ],
   "source": [
    "lbs = f_corr.iloc[:,0].tolist()\n",
    "ys = f_corr.iloc[:,1]\n",
    "ixx = np.arange(f_corr.shape[0])\n",
    "print(lbs)\n",
    "fig, ax = plt.subplots(figsize=(8,4))\n",
    "plt.bar(ixx,ys)\n",
    "plt.xticks(ixx, lbs, fontsize=10, rotation=30)\n",
    "ax.set_title(\"Feature Importance in Determining Batting Average\")\n",
    "ax.set_ylabel('Correlation with batting average')\n",
    "ax.set_xlabel('Feature')\n",
    "plt.show()"
   ]
  },
  {
   "cell_type": "code",
   "execution_count": 428,
   "metadata": {},
   "outputs": [
    {
     "name": "stdout",
     "output_type": "stream",
     "text": [
      "Mean Absolute Error: 0.048708828\n"
     ]
    }
   ],
   "source": [
    "predictions = forest.predict(testx)\n",
    "print(\"Mean Absolute Error: {0:.8}\".format(mean_absolute_error(predictions, testy)))\n"
   ]
  }
 ],
 "metadata": {
  "kernelspec": {
   "display_name": "Python 3",
   "language": "python",
   "name": "python3"
  },
  "language_info": {
   "codemirror_mode": {
    "name": "ipython",
    "version": 3
   },
   "file_extension": ".py",
   "mimetype": "text/x-python",
   "name": "python",
   "nbconvert_exporter": "python",
   "pygments_lexer": "ipython3",
   "version": "3.6.3"
  }
 },
 "nbformat": 4,
 "nbformat_minor": 2
}
