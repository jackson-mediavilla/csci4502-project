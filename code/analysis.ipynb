{
 "cells": [
  {
   "cell_type": "code",
   "execution_count": 654,
   "metadata": {},
   "outputs": [],
   "source": [
    "import numpy as np\n",
    "import matplotlib.pylab as plt\n",
    "import pandas as pd\n",
    "import sklearn\n",
    "import scipy\n",
    "import os\n",
    "import re\n",
    "import timeit\n",
    "\n",
    "from scipy import stats\n",
    "from subprocess import check_output\n",
    "from sklearn.model_selection import train_test_split\n",
    "from sklearn.cluster import KMeans\n",
    "from sklearn.neighbors import NearestNeighbors\n",
    "\n",
    "from sklearn.tree import DecisionTreeRegressor\n",
    "from sklearn.metrics import mean_absolute_error\n",
    "from sklearn.ensemble import RandomForestRegressor\n",
    "\n",
    "%matplotlib inline"
   ]
  },
  {
   "cell_type": "markdown",
   "metadata": {},
   "source": [
    "# Methods to import data"
   ]
  },
  {
   "cell_type": "markdown",
   "metadata": {},
   "source": [
    "#### Methods To Import Event Data"
   ]
  },
  {
   "cell_type": "code",
   "execution_count": 433,
   "metadata": {
    "collapsed": true
   },
   "outputs": [],
   "source": [
    "'''\n",
    "this function will take as an argument a file containing\n",
    "the field index and description for every field in the data frames.\n",
    "I will use this to create a template dataframe and to name the columns\n",
    "because currently it is just using the first value as the column name\n",
    "and it makes literally no sense at all.\n",
    "'''\n",
    "def shape_ev_data():\n",
    "    #this file contains all the field descriptions\n",
    "    field_descriptor_file_path = \"csvFieldDescriptions.txt\"\n",
    "    \n",
    "    #open the file and read it, adding each description to a list\n",
    "    fields = open(field_descriptor_file_path, 'r')\n",
    "    fieldInfo = []\n",
    "    for field in fields:\n",
    "        fieldInfo.append(field[2:].strip())\n",
    "    fields.close() #close file\n",
    "    return fieldInfo"
   ]
  },
  {
   "cell_type": "code",
   "execution_count": 434,
   "metadata": {
    "collapsed": true
   },
   "outputs": [],
   "source": [
    "'''\n",
    "This function takes as an argument the number of subframes to include\n",
    "where each 'subframe' is a pandas data frame containing play by play\n",
    "data for a team for a year. It will then return those subframes\n",
    "concatenated together into one main data frame. Subframes is preset to 50\n",
    "'''\n",
    "def get_event_data(subframes=50):\n",
    "    csvFiles = '../data/event_csv_files/'\n",
    "    csv_paths = os.listdir(csvFiles)#Get the paths of all of the CSV files\n",
    "    column_info = shape_ev_data()#get the information on each field\n",
    "    data = pd.DataFrame(columns=column_info)#create an empty data frame\n",
    "    individual_data = []#create a list to hold the smaller frames\n",
    "    del individual_data[:]#clear the list just in case I've already been using it\n",
    "\n",
    "    #make all the dataframes\n",
    "    df = pd.DataFrame(columns=column_info) #define a temp frame\n",
    "    for index, path in enumerate(csv_paths):#iterate over the list of paths\n",
    "        #names=column_info is what names the columns\n",
    "        df = pd.read_csv(str(csvFiles+path), names=column_info)#read a file into a csv\n",
    "        individual_data.append(df)#add it to the list\n",
    "        \n",
    "        #this line here is what limits how much data you pull.\n",
    "        #if you eneter -1 for subframes it'll skip this check and\n",
    "        #generate all of the data\n",
    "        if(subframes != -1):#if the passed parameter is -1, generate ALL data\n",
    "            if(index==subframes):#stop when desired subframe # is reached\n",
    "                break\n",
    "    \n",
    "    data = pd.concat(individual_data) #combining sub frames\n",
    "    del individual_data[:] #dont wanna waste space\n",
    "    return data#, individual_data"
   ]
  },
  {
   "cell_type": "markdown",
   "metadata": {},
   "source": [
    "#### Method To Import Game Log Data"
   ]
  },
  {
   "cell_type": "code",
   "execution_count": 435,
   "metadata": {},
   "outputs": [],
   "source": [
    "#reading in all the game logs and appending the dataframe accordingly\n",
    "def get_gl_data():\n",
    "    GLData = pd.DataFrame()\n",
    "    gls = [] #to hold smaller frames\n",
    "    del gls[:] #clear it to be sure\n",
    "    glogpath = '../data/GameLogs/' #path to the game logs\n",
    "    headPath = glogpath+'game_log_header.csv' #get the column info\n",
    "    header = pd.read_csv(headPath) #import the column info\n",
    "    colInfo = header.columns #store it for later use\n",
    "    start_year = 1950 #define starting year. gonna use this in path\n",
    "    end_year = 17 #also for path\n",
    "    for logFolder in os.listdir(glogpath):\n",
    "        try:#catching non int cases\n",
    "            y1 = int(logFolder[2:4]) ##first two of start yyyy\n",
    "            y2 = int(logFolder[2:6]) ##full start year\n",
    "            y3 = int(str(y1)+logFolder[-2:]) #full end year\n",
    "        except:\n",
    "            continue\n",
    "        #now open the folder if the start year is between the dates in the name\n",
    "        if(start_year<y3):\n",
    "            newPath = glogpath+logFolder\n",
    "            files = os.listdir(newPath)#get all the logs in the folder\n",
    "            for file in files:#now check each file to make sure it's the righ year\n",
    "                year = int(file[2:6])#get year of file\n",
    "                if(year>=start_year):#if it's within the range we want\n",
    "                    full_path = glogpath+logFolder+'/'+file #make full path\n",
    "                    gls.append(pd.read_csv(full_path, names=colInfo))#append the frame\n",
    "    GLData = pd.concat(gls) #combine the subframes into this one\n",
    "    del gls[:] #not wasting space\n",
    "    return GLData"
   ]
  },
  {
   "cell_type": "markdown",
   "metadata": {},
   "source": [
    "#### Method To Import Park Information Data"
   ]
  },
  {
   "cell_type": "code",
   "execution_count": 436,
   "metadata": {
    "collapsed": true
   },
   "outputs": [],
   "source": [
    "#this method will return an unedited dataframe of the park information\n",
    "def get_park_data():\n",
    "    parks = pd.DataFrame() #create empty frame\n",
    "    path = '../data/ParkInfo/ParkCodes.TXT' #path to park data\n",
    "\n",
    "    cols = ['PARKID','CITY','STATE'] #cols to import\n",
    "    parks = pd.read_csv(path, usecols=cols) #import it as csv\n",
    "    parks.columns = ['parkid','city','state'] #name cols\n",
    "    parks['location'] = parks.city + ', ' + parks.state #easier to cross ref\n",
    "    parks = parks.drop(['city','state'],axis=1)\n",
    "    \n",
    "    #parks['lat'] = 0\n",
    "    #parks['lng'] = 0\n",
    "    \n",
    "    return parks #return"
   ]
  },
  {
   "cell_type": "markdown",
   "metadata": {},
   "source": [
    "#### Method To Import City Data"
   ]
  },
  {
   "cell_type": "code",
   "execution_count": 510,
   "metadata": {
    "collapsed": true
   },
   "outputs": [],
   "source": [
    "#this method imports data on cities in the us\n",
    "def get_ct_data():\n",
    "    cities = pd.DataFrame() #create empty frame\n",
    "    path = '../data/ParkInfo/uscities.csv' #path\n",
    "    \n",
    "    #which columns to import\n",
    "    cols = ['city','state_id','lat','lng',]\n",
    "    \n",
    "    #get park info but only read the cols i want\n",
    "    cities = pd.read_csv(path, usecols=cols)\n",
    "    \n",
    "    #renaming a couple special cases\n",
    "    cities.city = cities.city.apply(lambda x: x.replace('Saint','St.'))\n",
    "    \n",
    "    cities.columns = ['city','state','lat','lng'] #rename cols\n",
    "    cities['location'] = cities.city + ', ' + cities.state #for cross ref\n",
    "    cities = cities.drop(['city','state'], axis=1) #drop old cols\n",
    "    \n",
    "    #cities = cities.drop_duplicates(subset='location') #only one station per city\n",
    "    \n",
    "    return cities"
   ]
  },
  {
   "cell_type": "markdown",
   "metadata": {},
   "source": [
    "#### Method To Import Station Data\n"
   ]
  },
  {
   "cell_type": "code",
   "execution_count": 438,
   "metadata": {},
   "outputs": [],
   "source": [
    "#imports the station data\n",
    "def get_st_data():\n",
    "    cols = ['id','lat','lng','elevation','state']\n",
    "    stations = pd.DataFrame(columns=cols) #stations\n",
    "    path = '../data/Weather/station_list.txt' #path to file\n",
    "    formatted_path = '../data/Weather/formatted_station_list.txt'\n",
    "    stations = open(path, 'r') #open weather stations\n",
    "    f_stations = open(formatted_path,'w') #file to write to\n",
    "    \n",
    "    #reformat the weather station file so it's not this ridiculous format\n",
    "    for line in stations: #for each line\n",
    "        new = line[:41] #remove the end because that's all irrelevant\n",
    "        new = re.sub('\\s\\s$', 'zz', new)#fake state col if it doesn't exist\n",
    "        new = ','.join(new.split())#remove spaces and replace with commas\n",
    "        new = new+'\\n' #add a newline at the end\n",
    "        f_stations.write(new) #write the formatted line\n",
    "    f_stations.close() #close the file at the end\n",
    "    \n",
    "    #now set stations frame\n",
    "    stations = pd.read_csv(formatted_path, names=cols)\n",
    "    \n",
    "    stations = stations.replace('zz',np.nan)#replace the zz\n",
    "    print(stations.shape)\n",
    "    stations = stations.dropna(subset=['state'],axis=0)#drop ones with state (not in us)\n",
    "    \n",
    "    return stations"
   ]
  },
  {
   "cell_type": "markdown",
   "metadata": {},
   "source": [
    "#### Method To Import bgame Files"
   ]
  },
  {
   "cell_type": "code",
   "execution_count": 439,
   "metadata": {
    "collapsed": true
   },
   "outputs": [],
   "source": [
    "#get cols of feature names for bgame files\n",
    "def shape_gl_data():\n",
    "    fn = open('bgameFeatureNames.TXT', 'r') #open file\n",
    "    fnames = [] #to store names\n",
    "    for feature in fn: #go over lines\n",
    "        f = re.sub('[\\(\\[].*?[\\)\\]]', '', feature[5:]).strip() #strip it\n",
    "        fnames.append(f) #add to list\n",
    "    fn.close()#close file\n",
    "    return fnames "
   ]
  },
  {
   "cell_type": "code",
   "execution_count": 440,
   "metadata": {
    "collapsed": true
   },
   "outputs": [],
   "source": [
    "#gets game log data from bgame\n",
    "def get_gl2_data():\n",
    "    csvFiles = '../data/game_csv_files/'\n",
    "    csv_paths = os.listdir(csvFiles)#Get the paths of all of the CSV files\n",
    "    column_info = shape_gl_data()#get the information on each field\n",
    "    data = pd.DataFrame(columns=column_info)#create an empty data frame\n",
    "    individual_data = []#create a list to hold the smaller frames\n",
    "    del individual_data[:]#clear the list just in case I've already been using it\n",
    "\n",
    "    #make all the dataframes\n",
    "    df = pd.DataFrame(columns=column_info) #define a temp frame\n",
    "    for index, path in enumerate(csv_paths):#iterate over the list of paths\n",
    "        #names=column_info is what names the columns\n",
    "        df = pd.read_csv(str(csvFiles+path), names=column_info)#read a file into a csv\n",
    "        individual_data.append(df)#add it to the list\n",
    "    \n",
    "    data = pd.concat(individual_data) #combining sub frames\n",
    "    del individual_data[:] #dont wanna waste space\n",
    "    return data#, individual_data"
   ]
  },
  {
   "cell_type": "markdown",
   "metadata": {},
   "source": [
    "#### Methods To Import Daily Weather Data"
   ]
  },
  {
   "cell_type": "code",
   "execution_count": 679,
   "metadata": {
    "collapsed": true
   },
   "outputs": [],
   "source": [
    "#this function will create a dataframe with weather data for the parks that exist\n",
    "def get_weather_data(parks):\n",
    "    \n",
    "    #metadata for fwf import\n",
    "    first_widths = [11,4,2,4] #widths of metadata\n",
    "    first_cols = ['id','year','month','element'] #names of metadata\n",
    "    daily_widths = [5,1,1,1] #widths of data for each day\n",
    "    daily_cols = ['value','mflag','qflag','sflag'] #names of data for each day\n",
    "    widths = first_widths #set widths of first columns\n",
    "    colNames = first_cols #column names array\n",
    "    drop = [] #actual array of columns to drop\n",
    "\n",
    "    #iterate over the days of the month\n",
    "    for i in range(31): \n",
    "        temp = [] #to hold the names temporarily\n",
    "        for col in daily_cols: #now go through these\n",
    "            temp.append(col+str(i+1)) #just add the proper number to the end of each\n",
    "        colNames+=temp #add the colnames to name them\n",
    "        drop+=temp[1:] #drop all but first daily col which is the value\n",
    "        first_widths+=daily_widths #iteratively adding widths for fwf file\n",
    "    \n",
    "    #cols to use\n",
    "    useCols = list(set(colNames)-set(drop)) #these are the cols i'll use\n",
    "    \n",
    "    #basically going to loop and iteratively generate file paths\n",
    "    #and import only the files i need so i don't have to deal with billions of\n",
    "    #lines of data\n",
    "    path = 'https://www1.ncdc.noaa.gov/pub/data/ghcn/daily/all/STATIONID.dly'\n",
    "    \n",
    "    #this will be the real time intensive task. Apply function applied to each\n",
    "    #row that returns a dataframe of weather for the given station. This frame\n",
    "    #is then appended to the individualdata frame\n",
    "    print('Getting weather data...')\n",
    "    individual_data = [] #create a list to hold the smaller frames\n",
    "    already_loaded = []\n",
    "    del individual_data[:] #clear the list just in case\n",
    "    for n in range(parks.shape[0]):#for each park\n",
    "        st = parks.station.iloc[n] #get station of park\n",
    "        \n",
    "        #has this weather station already been loaded in?\n",
    "        if st in already_loaded:\n",
    "            #print(\"Data for \"+st+\" has already been loaded!\")\n",
    "            continue\n",
    "        #for my own sanity\n",
    "        #print(\"Getting data for \"+st)\n",
    "        \n",
    "        #create a temp df\n",
    "        df = pd.read_fwf(path.replace('STATIONID',st), delim_whitespace=True, widths=widths, names=colNames, usecols=useCols)\n",
    "        \n",
    "        #add it to the list\n",
    "        individual_data.append(df) #append data\n",
    "        already_loaded.append(st) #mark that this station has been loaded\n",
    "\n",
    "    #now add them all together and delete the temp list to free space\n",
    "    data = pd.concat(individual_data) #combine the subframes into this one\n",
    "    del individual_data[:] #not wasting space\n",
    "    \n",
    "    #replace missing -9999 convention with Nan\n",
    "    data.replace(-9999,np.nan, inplace=True)\n",
    "    \n",
    "    return data"
   ]
  },
  {
   "cell_type": "markdown",
   "metadata": {},
   "source": [
    "# Data Preprocessing"
   ]
  },
  {
   "cell_type": "markdown",
   "metadata": {},
   "source": [
    "Should probably turn these into functions so I can also preprocess the main dataset. or any of the data that I want to pass to it. Shouldn't be to hard to parameterize. I guess it's worth noting that all of these functions so far have been written with the event data in mind. They almost certainly will not work on the gamelog data. I'm gonna rename the functions to indicate what data they should be used on."
   ]
  },
  {
   "cell_type": "markdown",
   "metadata": {},
   "source": [
    "#### Function to see what fraction of the original size the pruned data is"
   ]
  },
  {
   "cell_type": "code",
   "execution_count": 442,
   "metadata": {
    "collapsed": true
   },
   "outputs": [],
   "source": [
    "#this will just return how much memory pre, post and the percentage\n",
    "def get_reduction(pre, post):\n",
    "    a = np.sum(pre.memory_usage())\n",
    "    b = np.sum(post.memory_usage())\n",
    "    return a, b, b/a"
   ]
  },
  {
   "cell_type": "markdown",
   "metadata": {},
   "source": [
    "#### Pruning"
   ]
  },
  {
   "cell_type": "code",
   "execution_count": 443,
   "metadata": {},
   "outputs": [],
   "source": [
    "#going to drop a lot of columns\n",
    "def prune_ev_data(original_data, verbose=False):\n",
    "    #indexes for columns to drop. Honestly i just looked at the field descriptions\n",
    "    #and dropped mostly things like who was playing each position, where the ball \n",
    "    #was hit, the names of people who contributed to the play, etc\n",
    "    ix = [12, 13, 16, 17, 18, 19, 20, 21, 22, 23, 24, 25, 26, 27, 28, 32, 46, 47,\n",
    "          49, 50, 51, 52, 53, 54, 55, 56, 57, 58, 59, 60, 61, 62, 63, 64, 65, 66,\n",
    "          67, 68, 69, 70, 71, 72, 73, 74, 75, 76, 77, 80, 81, 82, 83, 84, 85, 86,\n",
    "          87, 88, 89, 90, 91, 92, 93, 94, 95, 96\n",
    "         ]\n",
    "    #gonna turn those indexes into names just to ensure i drop the right\n",
    "    #columns\n",
    "    ixn = original_data.columns[ix]\n",
    "    \n",
    "    #verbose option\n",
    "    if(verbose):\n",
    "        print(\"Dropping Columns:\\n\")\n",
    "        for col in ixn:\n",
    "            print(col)\n",
    "    \n",
    "    pruned_data = original_data #copy data for pruned data\n",
    "    #original_data_size = np.sum(original_data.memory_usage(deep=True)) #how big is the data\n",
    "\n",
    "    #Prune Columns\n",
    "    pruned_data = pruned_data.drop(pruned_data.columns[ix], axis=1) #prune columns\n",
    "    \n",
    "    return pruned_data"
   ]
  },
  {
   "cell_type": "code",
   "execution_count": 444,
   "metadata": {
    "collapsed": true
   },
   "outputs": [],
   "source": [
    "#prune the game logs\n",
    "def prune_gl_data(original_data, verbose=False):\n",
    "    #columns to drop. Doing by index again because it'd be a huge hassle to\n",
    "    #type hundreds of column names. I will convert the indices to col namse\n",
    "    #and add a verbose flag to see what I've chosen to drop. Again,\n",
    "    #i'm basically just reading the data description on retrosheet and doing\n",
    "    #this by hand. In the future, it would be easier to only pull the data we \n",
    "    #need as opposed to pulling all and then pruning\n",
    "    #gonna use lists to get ranges so i don't have to type tons of nums\n",
    "    ix = [13, 14, 15, 4, 5, 7, 8]\n",
    "    l1 = list(np.arange(78, 101, 1))\n",
    "    l2 = list(np.arange(106, 161, 1))\n",
    "    ix  = ix + l1 + l2 #concat these lists\n",
    "    \n",
    "    #get col names\n",
    "    ixn = original_data.columns[ix]\n",
    "    \n",
    "    #verbose option\n",
    "    if(verbose):\n",
    "        print(\"Dropping Columns:\\n\")\n",
    "        for col in ixn:\n",
    "            print(col)\n",
    "    \n",
    "    pruned_data = original_data #copy data for pruned data\n",
    "    \n",
    "    #Prune Columns\n",
    "    pruned_data = pruned_data.drop(pruned_data.columns[ix], axis=1) #prune columns\n",
    "    \n",
    "    return pruned_data"
   ]
  },
  {
   "cell_type": "markdown",
   "metadata": {},
   "source": [
    "#### Adding Features"
   ]
  },
  {
   "cell_type": "code",
   "execution_count": 445,
   "metadata": {
    "collapsed": true
   },
   "outputs": [],
   "source": [
    "#this method takes the event data and, for each event, adds a column for the\n",
    "#team under which the play is filed, the date of the play (for weather)\n",
    "#and the game of the day\n",
    "def add_ev_metadata(event_data):\n",
    "    #Adding in a bit more data on the team, date, game of day, and also field\n",
    "    event_data['team'] = event_data['game id'].astype(str).str[:3]#storing the team\n",
    "    event_data['date'] = event_data['game id'].astype(str).str[3:-1]#date\n",
    "    event_data['game_of_day'] = event_data['game id'].astype(str).str[-1:]#which game of the day it is\n",
    "    return event_data"
   ]
  },
  {
   "cell_type": "code",
   "execution_count": 619,
   "metadata": {},
   "outputs": [],
   "source": [
    "#takes in park data, city data, and station data respectively.\n",
    "#adds the coordinates and respective weather station to each park entry\n",
    "def add_pk_metadata(pdata, cdata, sdata):\n",
    "    \n",
    "    #adding coordinates\n",
    "    pdata = pdata.merge(cdata, left_on='location', right_on='location', how='left')\n",
    "    \n",
    "    #now find the nearest weather station\n",
    "    pdata['station'] = 'na'#create an empty station col\n",
    "    sdata['parkid'] = 'zz'\n",
    "    \n",
    "    #empty combined frame\n",
    "    combined = pd.DataFrame() #empty combined frame\n",
    "    \n",
    "    #drop parks with no coordinates bc we won't have their weather data\n",
    "    pdata = pdata.dropna(axis=0)\n",
    "    numParks = pdata.shape[0]\n",
    "    \n",
    "    #defining the columns of the new frame\n",
    "    #combining park and station data\n",
    "    ids = pdata['parkid'].append(sdata['parkid'], ignore_index=True) #add this to frame\n",
    "    lats = pdata['lat'].append(sdata['lat'], ignore_index=True) #add latitudes\n",
    "    lngs = pdata['lng'].append(sdata['lng'], ignore_index=True) #and lngs\n",
    "    stations = pdata['station'].append(sdata['id'], ignore_index=True) #adding a station col\n",
    "    \n",
    "    #adding these to the combined frame\n",
    "    combined['lng'] = lngs\n",
    "    combined['lat'] = lats\n",
    "    combined['parkid'] = ids\n",
    "    combined['station'] = stations\n",
    "    \n",
    "    #gonna use a nearest neighbors algorithm that uses lat and long\n",
    "    #to find the single nearest neighbor to each point.\n",
    "    #will use the combined cities and stations data so that it matches\n",
    "    #a city with the nearest station. I'm using cities because there are multiple\n",
    "    #parks per city, so they would just match with each other instead of a station.\n",
    "    X = np.column_stack((combined['lat'],combined['lng']))\n",
    "    nbrs = NearestNeighbors(n_neighbors=20).fit(X)\n",
    "    \n",
    "    #only want to find the neighbors for the parks \n",
    "    #this is the first 252 rows\n",
    "    X2 = X[:numParks]\n",
    "    \n",
    "    #get the distances and indices\n",
    "    d, i  = nbrs.kneighbors(X2)\n",
    "    \n",
    "    pairs = [] #pairs of indices for cities and stations in the combined frame\n",
    "    prks = [] #hold park indices\n",
    "    stats = [] #hold station indices\n",
    "    for park, r in enumerate(i): #for each set of neighbors\n",
    "        found = False #if the best match hasn't been found\n",
    "        for ix in r: #check each of the best pairs\n",
    "            if(found): #if the best neighbor has been found break\n",
    "                break\n",
    "            if(ix>=numParks and not found): #if the neighbor is NOT another city\n",
    "                pairs.append([park,ix]) #add the pair\n",
    "                prks.append(park) #adding park indices\n",
    "                stats.append(ix) #adding station indices\n",
    "                found = True #mark that a station has been found     \n",
    "    \n",
    "    #add stations to park data\n",
    "    pdata.station = stats\n",
    "    pdata.station = pdata.station.apply(lambda s: combined.iloc[int(s), 3])\n",
    "    \n",
    "    return pdata"
   ]
  },
  {
   "cell_type": "markdown",
   "metadata": {},
   "source": [
    "#### Converting Categorical Data to Ints"
   ]
  },
  {
   "cell_type": "code",
   "execution_count": 17,
   "metadata": {},
   "outputs": [],
   "source": [
    "#this function takes any categorical data that can be represented as\n",
    "#ints and converts it. it also reduces all int columns\n",
    "#to the smallest possible integer form\n",
    "def reduce_ev_nums(original_data):\n",
    "    redata = original_data #reduced event data\n",
    "\n",
    "    #I noticed all the features I wanted to convert were all binary data for\n",
    "    #flags and which hand people use. So gonna iterate through the features\n",
    "    #and convert features with the word flag or hand\n",
    "    for column in redata.columns:#go through the cols\n",
    "        #if the feature name has hand or flag\n",
    "        if(('hand' in column.lower()) or ('flag' in column.lower())):\n",
    "            redata[column] = redata[column].astype('category')#set to cat\n",
    "\n",
    "    #convert them to ints            \n",
    "    cat_columns = redata.select_dtypes(['category']).columns #get cat cols\n",
    "    redata[cat_columns] = redata[cat_columns].apply(lambda x: x.cat.codes) #cast to int\n",
    "    \n",
    "    #downcast all to smallest acceptable int size\n",
    "    ints = redata.select_dtypes(include=['int']) #get any int cols\n",
    "    ints = ints.apply(pd.to_numeric, downcast='unsigned') #downcast them\n",
    "    \n",
    "    #downcast floats\n",
    "    floats = redata.select_dtypes(include=['float']) #get floats\n",
    "    floats = floats.apply(pd.to_numeric,downcast='float') #downcast them\n",
    "    \n",
    "    #now replace the numeric columns with their reduced ones\n",
    "    redata[ints.columns] = ints #replace with reduced ints\n",
    "    redata[floats.columns] = floats #replace with reduced floats\n",
    "    \n",
    "    #retyped_data_size = np.sum(redata.memory_usage(deep=True)) #store size\n",
    "    return redata"
   ]
  },
  {
   "cell_type": "code",
   "execution_count": 18,
   "metadata": {
    "collapsed": true
   },
   "outputs": [],
   "source": [
    "#this function will reduce the numbers in the game log data\n",
    "def reduce_gl_nums(original_data, verbose=False):\n",
    "    redata = original_data #copy data\n",
    "    \n",
    "    #manually looked through at which object cols could be cast to ints and \n",
    "    #reduced. Converting some like player name would cause us to lose info\n",
    "    #at the same time, we aren't really interested in specific pitchers so \n",
    "    #that may be a good idea to reduce them as well. future decisions.\n",
    "    ixn = ['DayOfWeek','DayNight'] #names for verbose\n",
    "    ix = [] #to store indices of names\n",
    "    for i in ixn: #iterate over col names\n",
    "        ix.append(original_data.columns.get_loc(i)) #get index from name\n",
    "    \n",
    "    #print names if verbose\n",
    "    if(verbose):\n",
    "        print(\"Removing Columns:\\n\")\n",
    "        for col in ixn:\n",
    "            print(col)\n",
    "            \n",
    "    #convert ints to categories\n",
    "    for col in ixn:\n",
    "        redata[col] = redata[col].astype('category')#cast to category\n",
    "    \n",
    "    #convert categories to ints\n",
    "    cat_cols = redata.select_dtypes(['category']).columns #get cat cols\n",
    "    redata[cat_cols] = redata[cat_cols].apply(lambda x: x.cat.codes) #to int\n",
    "    \n",
    "    #downcast ints\n",
    "    ints = redata.select_dtypes(include=['int']) #get ints\n",
    "    ints = ints.apply(pd.to_numeric,downcast='unsigned') #downcast them\n",
    "    \n",
    "    #downcast floats\n",
    "    floats = redata.select_dtypes(include=['float']) #get floats\n",
    "    floats = floats.apply(pd.to_numeric,downcast='float') #downcast them\n",
    "    \n",
    "    #now replace the numeric columns with their reduced ones\n",
    "    redata[ints.columns] = ints #replace with reduced ints\n",
    "    redata[floats.columns] = floats #replace with reduced floats\n",
    "    \n",
    "    return redata #return the reduced data"
   ]
  },
  {
   "cell_type": "markdown",
   "metadata": {},
   "source": [
    "#### Putting It All Together"
   ]
  },
  {
   "cell_type": "code",
   "execution_count": 19,
   "metadata": {
    "collapsed": true
   },
   "outputs": [],
   "source": [
    "# this function just combines the preprocessing steps so you don't have to\n",
    "# it takes a dataframe and a frame type eg: ev for event, gl for game log,\n",
    "# pk for park, wt for weather. It will then return the processed data and,\n",
    "# if you pass verbose as True, it'll return the dataframe size at each step\n",
    "# stored in a list\n",
    "def process_data(data, data_type, verbose=False):\n",
    "    sizes = [] #to store data sizes\n",
    "    reduced = pd.DataFrame() #to store reduced data\n",
    "    \n",
    "    #store first mem usage for verbose\n",
    "    sizes.append(np.sum(data.memory_usage(deep=True)))\n",
    "    \n",
    "    #process depending on data type\n",
    "    if(data_type=='ev'): #event data\n",
    "        reduced = prune_ev_data(data) #prune\n",
    "        sizes.append(np.sum(reduced.memory_usage(deep=True))) #verbose\n",
    "        reduced = reduce_ev_nums(reduced) #downcast numerics\n",
    "        sizes.append(np.sum(reduced.memory_usage(deep=True))) #verbose\n",
    "    elif(data_type=='gl'):\n",
    "        reduced = prune_gl_data(data) #prune\n",
    "        sizes.append(np.sum(reduced.memory_usage(deep=True))) #verbose\n",
    "        reduced = reduce_gl_nums(reduced) #downcast numerics\n",
    "        sizes.append(np.sum(reduced.memory_usage(deep=True))) #verbose\n",
    "    else:\n",
    "        print(\"Please enter a valid data type.\")\n",
    "        return\n",
    "    \n",
    "    #return depending on verbose\n",
    "    if(verbose): #return the sizes\n",
    "        return reduced, sizes #like so\n",
    "    else: #if they don't want verbose just return data\n",
    "        return reduced"
   ]
  },
  {
   "cell_type": "markdown",
   "metadata": {},
   "source": [
    "# Creating Data Frames and Processing Them"
   ]
  },
  {
   "cell_type": "code",
   "execution_count": 680,
   "metadata": {},
   "outputs": [
    {
     "name": "stdout",
     "output_type": "stream",
     "text": [
      "(106283, 5)\n"
     ]
    }
   ],
   "source": [
    "evdata = get_event_data() #get event data\n",
    "gldata = get_gl_data() #get game log data\n",
    "pkdata = get_park_data() #get park data\n",
    "ctdata = get_ct_data() #get city data\n",
    "stdata = get_st_data() #get the station data\n",
    "gl2data = get_gl2_data() #bgame game log data"
   ]
  },
  {
   "cell_type": "code",
   "execution_count": 681,
   "metadata": {},
   "outputs": [],
   "source": [
    "#Here is an example of how to use the process data function \n",
    "revdata = process_data(evdata, 'ev') # process event data\n",
    "rgldata = process_data(gldata, 'gl') #process gl data\n",
    "rpkdata = add_pk_metadata(pkdata, ctdata, stdata) #process park data"
   ]
  },
  {
   "cell_type": "code",
   "execution_count": 682,
   "metadata": {},
   "outputs": [
    {
     "name": "stdout",
     "output_type": "stream",
     "text": [
      "Getting weather data...\n"
     ]
    }
   ],
   "source": [
    "#Getting weather data\n",
    "wedata = get_weather_data(rpkdata)"
   ]
  },
  {
   "cell_type": "code",
   "execution_count": 683,
   "metadata": {},
   "outputs": [
    {
     "data": {
      "text/html": [
       "<div>\n",
       "<style>\n",
       "    .dataframe thead tr:only-child th {\n",
       "        text-align: right;\n",
       "    }\n",
       "\n",
       "    .dataframe thead th {\n",
       "        text-align: left;\n",
       "    }\n",
       "\n",
       "    .dataframe tbody tr th {\n",
       "        vertical-align: top;\n",
       "    }\n",
       "</style>\n",
       "<table border=\"1\" class=\"dataframe\">\n",
       "  <thead>\n",
       "    <tr style=\"text-align: right;\">\n",
       "      <th></th>\n",
       "      <th>id</th>\n",
       "      <th>year</th>\n",
       "      <th>month</th>\n",
       "      <th>element</th>\n",
       "      <th>value1</th>\n",
       "      <th>value2</th>\n",
       "      <th>value3</th>\n",
       "      <th>value4</th>\n",
       "      <th>value5</th>\n",
       "      <th>value6</th>\n",
       "      <th>...</th>\n",
       "      <th>value22</th>\n",
       "      <th>value23</th>\n",
       "      <th>value24</th>\n",
       "      <th>value25</th>\n",
       "      <th>value26</th>\n",
       "      <th>value27</th>\n",
       "      <th>value28</th>\n",
       "      <th>value29</th>\n",
       "      <th>value30</th>\n",
       "      <th>value31</th>\n",
       "    </tr>\n",
       "  </thead>\n",
       "  <tbody>\n",
       "    <tr>\n",
       "      <th>0</th>\n",
       "      <td>US1NYAB0039</td>\n",
       "      <td>2017</td>\n",
       "      <td>3</td>\n",
       "      <td>PRCP</td>\n",
       "      <td>NaN</td>\n",
       "      <td>NaN</td>\n",
       "      <td>NaN</td>\n",
       "      <td>NaN</td>\n",
       "      <td>NaN</td>\n",
       "      <td>NaN</td>\n",
       "      <td>...</td>\n",
       "      <td>NaN</td>\n",
       "      <td>NaN</td>\n",
       "      <td>NaN</td>\n",
       "      <td>23.0</td>\n",
       "      <td>NaN</td>\n",
       "      <td>NaN</td>\n",
       "      <td>NaN</td>\n",
       "      <td>NaN</td>\n",
       "      <td>NaN</td>\n",
       "      <td>NaN</td>\n",
       "    </tr>\n",
       "    <tr>\n",
       "      <th>1</th>\n",
       "      <td>US1NYAB0039</td>\n",
       "      <td>2017</td>\n",
       "      <td>3</td>\n",
       "      <td>SNOW</td>\n",
       "      <td>NaN</td>\n",
       "      <td>NaN</td>\n",
       "      <td>NaN</td>\n",
       "      <td>NaN</td>\n",
       "      <td>NaN</td>\n",
       "      <td>NaN</td>\n",
       "      <td>...</td>\n",
       "      <td>NaN</td>\n",
       "      <td>NaN</td>\n",
       "      <td>NaN</td>\n",
       "      <td>8.0</td>\n",
       "      <td>NaN</td>\n",
       "      <td>NaN</td>\n",
       "      <td>NaN</td>\n",
       "      <td>NaN</td>\n",
       "      <td>NaN</td>\n",
       "      <td>NaN</td>\n",
       "    </tr>\n",
       "    <tr>\n",
       "      <th>2</th>\n",
       "      <td>US1NYAB0039</td>\n",
       "      <td>2017</td>\n",
       "      <td>4</td>\n",
       "      <td>PRCP</td>\n",
       "      <td>NaN</td>\n",
       "      <td>NaN</td>\n",
       "      <td>NaN</td>\n",
       "      <td>NaN</td>\n",
       "      <td>NaN</td>\n",
       "      <td>NaN</td>\n",
       "      <td>...</td>\n",
       "      <td>3.0</td>\n",
       "      <td>NaN</td>\n",
       "      <td>NaN</td>\n",
       "      <td>0.0</td>\n",
       "      <td>104.0</td>\n",
       "      <td>0.0</td>\n",
       "      <td>3.0</td>\n",
       "      <td>NaN</td>\n",
       "      <td>NaN</td>\n",
       "      <td>NaN</td>\n",
       "    </tr>\n",
       "    <tr>\n",
       "      <th>3</th>\n",
       "      <td>US1NYAB0039</td>\n",
       "      <td>2017</td>\n",
       "      <td>4</td>\n",
       "      <td>SNOW</td>\n",
       "      <td>NaN</td>\n",
       "      <td>NaN</td>\n",
       "      <td>NaN</td>\n",
       "      <td>NaN</td>\n",
       "      <td>NaN</td>\n",
       "      <td>NaN</td>\n",
       "      <td>...</td>\n",
       "      <td>NaN</td>\n",
       "      <td>NaN</td>\n",
       "      <td>NaN</td>\n",
       "      <td>NaN</td>\n",
       "      <td>NaN</td>\n",
       "      <td>NaN</td>\n",
       "      <td>NaN</td>\n",
       "      <td>NaN</td>\n",
       "      <td>NaN</td>\n",
       "      <td>NaN</td>\n",
       "    </tr>\n",
       "    <tr>\n",
       "      <th>4</th>\n",
       "      <td>US1NYAB0039</td>\n",
       "      <td>2017</td>\n",
       "      <td>5</td>\n",
       "      <td>PRCP</td>\n",
       "      <td>8.0</td>\n",
       "      <td>208.0</td>\n",
       "      <td>NaN</td>\n",
       "      <td>NaN</td>\n",
       "      <td>NaN</td>\n",
       "      <td>NaN</td>\n",
       "      <td>...</td>\n",
       "      <td>30.0</td>\n",
       "      <td>NaN</td>\n",
       "      <td>NaN</td>\n",
       "      <td>NaN</td>\n",
       "      <td>203.0</td>\n",
       "      <td>30.0</td>\n",
       "      <td>NaN</td>\n",
       "      <td>0.0</td>\n",
       "      <td>0.0</td>\n",
       "      <td>137.0</td>\n",
       "    </tr>\n",
       "  </tbody>\n",
       "</table>\n",
       "<p>5 rows × 35 columns</p>\n",
       "</div>"
      ],
      "text/plain": [
       "            id  year  month element  value1  value2  value3  value4  value5  \\\n",
       "0  US1NYAB0039  2017      3    PRCP     NaN     NaN     NaN     NaN     NaN   \n",
       "1  US1NYAB0039  2017      3    SNOW     NaN     NaN     NaN     NaN     NaN   \n",
       "2  US1NYAB0039  2017      4    PRCP     NaN     NaN     NaN     NaN     NaN   \n",
       "3  US1NYAB0039  2017      4    SNOW     NaN     NaN     NaN     NaN     NaN   \n",
       "4  US1NYAB0039  2017      5    PRCP     8.0   208.0     NaN     NaN     NaN   \n",
       "\n",
       "   value6   ...     value22  value23  value24  value25  value26  value27  \\\n",
       "0     NaN   ...         NaN      NaN      NaN     23.0      NaN      NaN   \n",
       "1     NaN   ...         NaN      NaN      NaN      8.0      NaN      NaN   \n",
       "2     NaN   ...         3.0      NaN      NaN      0.0    104.0      0.0   \n",
       "3     NaN   ...         NaN      NaN      NaN      NaN      NaN      NaN   \n",
       "4     NaN   ...        30.0      NaN      NaN      NaN    203.0     30.0   \n",
       "\n",
       "   value28  value29  value30  value31  \n",
       "0      NaN      NaN      NaN      NaN  \n",
       "1      NaN      NaN      NaN      NaN  \n",
       "2      3.0      NaN      NaN      NaN  \n",
       "3      NaN      NaN      NaN      NaN  \n",
       "4      NaN      0.0      0.0    137.0  \n",
       "\n",
       "[5 rows x 35 columns]"
      ]
     },
     "execution_count": 683,
     "metadata": {},
     "output_type": "execute_result"
    }
   ],
   "source": [
    "wedata.head()"
   ]
  },
  {
   "cell_type": "code",
   "execution_count": 352,
   "metadata": {
    "collapsed": true
   },
   "outputs": [],
   "source": [
    "get = ['game id','day/night flag','attendance','temperature','wind direction',\n",
    "      'wind speed','field condition','precipitation','sky']\n",
    "weather = gl2data[get]"
   ]
  },
  {
   "cell_type": "code",
   "execution_count": 342,
   "metadata": {},
   "outputs": [
    {
     "data": {
      "text/plain": [
       "(66801, 9)"
      ]
     },
     "execution_count": 342,
     "metadata": {},
     "output_type": "execute_result"
    }
   ],
   "source": [
    "weather.shape"
   ]
  },
  {
   "cell_type": "code",
   "execution_count": 143,
   "metadata": {},
   "outputs": [],
   "source": [
    "a = np.sum(asize)\n",
    "b = np.sum(reduced_evdata.memory_usage(deep=True))"
   ]
  },
  {
   "cell_type": "code",
   "execution_count": 248,
   "metadata": {},
   "outputs": [
    {
     "name": "stdout",
     "output_type": "stream",
     "text": [
      "40995205323 5152821477 0.12569327160093657\n"
     ]
    },
    {
     "data": {
      "text/plain": [
       "Text(0.5,0,'Processing Stage')"
      ]
     },
     "execution_count": 248,
     "metadata": {},
     "output_type": "execute_result"
    },
    {
     "data": {
      "image/png": "[encoded data removed]",
      "text/plain": [
       "<matplotlib.figure.Figure at 0x202238d09e8>"
      ]
     },
     "metadata": {},
     "output_type": "display_data"
    }
   ],
   "source": [
    "print(a, b, b/a)\n",
    "reduced_evdata.shape\n",
    "lbs = ['Before Processing','After Pruning','After Downcasting']\n",
    "ys = [a, b]\n",
    "ixx = [0,1,2]\n",
    "fig, ax = plt.subplots(figsize=(8,4))\n",
    "plt.bar(ixx,sizes)\n",
    "plt.xticks(ixx, lbs, fontsize=15)\n",
    "ax.set_title(\"Event Data Memory Usage During Processing\")\n",
    "ax.set_ylabel('Dataframe Memory Usage in Bytes')\n",
    "ax.set_xlabel('Processing Stage')"
   ]
  },
  {
   "cell_type": "code",
   "execution_count": 228,
   "metadata": {},
   "outputs": [],
   "source": [
    "first_n_rows = 500000\n",
    "events = reduced_evdata.iloc[:-first_n_rows,:]\n",
    "events2 = events.iloc[:-60000,:]"
   ]
  },
  {
   "cell_type": "code",
   "execution_count": 169,
   "metadata": {},
   "outputs": [
    {
     "name": "stdout",
     "output_type": "stream",
     "text": [
      "(106283, 5)\n"
     ]
    },
    {
     "data": {
      "text/plain": [
       "(67278, 5)"
      ]
     },
     "execution_count": 169,
     "metadata": {},
     "output_type": "execute_result"
    }
   ],
   "source": [
    "stdata = get_st_data() #get the station data\n",
    "stdata.shape"
   ]
  },
  {
   "cell_type": "markdown",
   "metadata": {},
   "source": [
    "# Analysis"
   ]
  },
  {
   "cell_type": "code",
   "execution_count": 177,
   "metadata": {},
   "outputs": [],
   "source": [
    "def batting_average_loc(evdata, feature=-1, val=-1):\n",
    "    # Create new dataframe with data to calculate batting average\n",
    "    oBatterData = evdata[['game id', 'batter', 'event type', 'batter event flag', 'ab flag', 'hit value','outs','balls','inning','strikes','pitcher hand','batter hand']].copy()\n",
    "    \n",
    "    #\n",
    "    if(feature!=-1):\n",
    "        oBatterData =  oBatterData.loc[oBatterData[feature]==val]\n",
    "    \n",
    "    # Calculate batters' at bats and hits per game\n",
    "    BatterData = oBatterData.loc[(oBatterData['batter event flag'] == 1) & (oBatterData['ab flag'] == 1)]\n",
    "    BatterData2 = BatterData.loc[(BatterData['batter event flag'] == 1) & (BatterData['ab flag'] == 1) & (BatterData['hit value'] > 0)]\n",
    "    BatterData = BatterData.groupby(['game id', 'batter']).size().reset_index(name='AB')\n",
    "    BatterData2 = BatterData2.groupby(['game id', 'batter']).size().reset_index(name='H')\n",
    "\n",
    "    #BatterData.loc[(BatterData['batter event flag'] == 1) & (BatterData['ab flag'] == 1)]['hit value'].groupby(['batter'])\n",
    "\n",
    "    BatterData3 = oBatterData.loc[(oBatterData['batter event flag'] == 1) & (oBatterData['ab flag'] == 1) & (oBatterData['hit value'] == 0)]\n",
    "    BatterData3 = BatterData3.groupby(['game id', 'batter']).size().reset_index(name='strikeouts')\n",
    "\n",
    "    bat3 = BatterData.merge(BatterData2, left_on=['batter','game id'], right_on=['batter','game id'], how='outer')\n",
    "    bat3 = bat3.merge(BatterData3, left_on=['batter','game id'], right_on=['batter','game id'], how='outer')\n",
    "\n",
    "    bat3['BA'] = bat3.apply(lambda row: row['H']/row['AB'],axis=1)\n",
    "\n",
    "    bat3 = bat3.fillna(value=0, axis=1)\n",
    "    \n",
    "    return bat3"
   ]
  },
  {
   "cell_type": "code",
   "execution_count": 199,
   "metadata": {
    "collapsed": true
   },
   "outputs": [],
   "source": [
    "#just a simple method to run hypothesis testing\n",
    "def hyp_test(data, feature, null):\n",
    "    z = 1.96 # z val\n",
    "    alpha = 0.05 # alpha val for 95% confidence interval\n",
    "    mean = data[feature].mean() # sample mean\n",
    "    std = data[feature].std() # sample std\n",
    "    n = data.shape[0] # n\n",
    "    dof = n-1\n",
    "    test_stat = (mean - null)/(std/(n**0.5)) # test stat\n",
    "    #p_val = stats.norm.cdf(-abs(test_stat))\n",
    "    if(abs(test_stat)>z):\n",
    "        print(\"Null rejected with z: {0:.4}\".format(test_stat))\n",
    "        print(\"Sample Mean: {0:.4}\".format(mean))\n",
    "        print(\"Null Mean: {0:.4}\".format(null))\n",
    "    else:\n",
    "        print(\"Null not rejected with z: {0:.4}\".format(test_stat))\n",
    "        print(\"Sample Mean: {0:.4}\".format(mean))\n",
    "        print(\"Null Mean: {0:.4}\".format(null))\n",
    "    print(\"\\n\")"
   ]
  },
  {
   "cell_type": "code",
   "execution_count": 179,
   "metadata": {},
   "outputs": [],
   "source": [
    "std_bt_average = batting_average_loc(events)"
   ]
  },
  {
   "cell_type": "code",
   "execution_count": 181,
   "metadata": {
    "collapsed": true
   },
   "outputs": [],
   "source": [
    "o2 = batting_average_loc(events, 'outs', 2)"
   ]
  },
  {
   "cell_type": "code",
   "execution_count": 200,
   "metadata": {},
   "outputs": [
    {
     "name": "stdout",
     "output_type": "stream",
     "text": [
      "0.24671124383993973\n",
      "Null rejected with z: -17.67\n",
      "Sample Mean: 0.2418\n",
      "Null Mean: 0.2467\n",
      "\n",
      "\n"
     ]
    }
   ],
   "source": [
    "ba = std_bt_average.BA.mean()\n",
    "bastd = std_bt_average.BA.std()\n",
    "n = std_bt_average.shape[0]\n",
    "print(ba)\n",
    "hyp_test(o2, 'BA', ba)"
   ]
  },
  {
   "cell_type": "code",
   "execution_count": 192,
   "metadata": {},
   "outputs": [
    {
     "name": "stdout",
     "output_type": "stream",
     "text": [
      "Finding BA for inning 1...\n",
      "Finding BA for inning 2...\n",
      "Finding BA for inning 3...\n",
      "Finding BA for inning 4...\n",
      "Finding BA for inning 5...\n",
      "Finding BA for inning 6...\n",
      "Finding BA for inning 7...\n",
      "Finding BA for inning 8...\n",
      "Finding BA for inning 9...\n"
     ]
    }
   ],
   "source": [
    "ba_in = {1:0,2:0,3:0,4:0,5:0,6:0,7:0,8:0,9:0}\n",
    "for key in ba_in:\n",
    "    print(\"Finding BA for inning {0}...\".format(key))\n",
    "    ba_in[key] = batting_average_loc(events,'inning',key)"
   ]
  },
  {
   "cell_type": "code",
   "execution_count": 202,
   "metadata": {},
   "outputs": [
    {
     "name": "stdout",
     "output_type": "stream",
     "text": [
      "0.44181604002025315\n",
      "Null rejected with z: 43.97\n",
      "Sample Mean: 0.2664\n",
      "Null Mean: 0.2467\n",
      "\n",
      "\n",
      "0.43240825553125806\n",
      "Null rejected with z: 6.213\n",
      "Sample Mean: 0.2495\n",
      "Null Mean: 0.2467\n",
      "\n",
      "\n",
      "0.4375009377944205\n",
      "Null rejected with z: 26.58\n",
      "Sample Mean: 0.2586\n",
      "Null Mean: 0.2467\n",
      "\n",
      "\n",
      "0.44076265227004113\n",
      "Null rejected with z: 39.89\n",
      "Sample Mean: 0.2646\n",
      "Null Mean: 0.2467\n",
      "\n",
      "\n",
      "0.4390641237180289\n",
      "Null rejected with z: 32.89\n",
      "Sample Mean: 0.2614\n",
      "Null Mean: 0.2467\n",
      "\n",
      "\n",
      "0.440416050557092\n",
      "Null rejected with z: 38.54\n",
      "Sample Mean: 0.2639\n",
      "Null Mean: 0.2467\n",
      "\n",
      "\n",
      "0.4379036892012984\n",
      "Null rejected with z: 28.04\n",
      "Sample Mean: 0.2592\n",
      "Null Mean: 0.2467\n",
      "\n",
      "\n",
      "0.43540949441907545\n",
      "Null rejected with z: 17.94\n",
      "Sample Mean: 0.2547\n",
      "Null Mean: 0.2467\n",
      "\n",
      "\n",
      "0.43131514081009953\n",
      "Null not rejected with z: 1.398\n",
      "Sample Mean: 0.2474\n",
      "Null Mean: 0.2467\n",
      "\n",
      "\n"
     ]
    }
   ],
   "source": [
    "bain = []\n",
    "for key in ba_in:\n",
    "    bain.append(ba_in[key].BA.mean())\n",
    "    print(ba_in[key].BA.std())\n",
    "    hyp_test(ba_in[key],'BA',ba)"
   ]
  },
  {
   "cell_type": "code",
   "execution_count": 229,
   "metadata": {},
   "outputs": [
    {
     "data": {
      "image/png": "[encoded data removed]",
      "text/plain": [
       "<matplotlib.figure.Figure at 0x20220e6dba8>"
      ]
     },
     "metadata": {},
     "output_type": "display_data"
    }
   ],
   "source": [
    "x = list(ba_in.keys())\n",
    "y = bain\n",
    "x_avg = np.sum(x)/9\n",
    "y_avg = np.sum(y)/9\n",
    "beta = np.sum((x - x_avg)*(y - y_avg))/np.sum((x - x_avg)**2)\n",
    "alpha = y_avg - beta*x_avg\n",
    "x_int = -alpha/ beta\n",
    "\n",
    "fig, ax = plt.subplots(figsize=(8,4))\n",
    "plt.plot(x, y, 'g')\n",
    "plt.plot([0, x_int], [alpha, 0], 'b', label='Regression Line')\n",
    "plt.scatter(x, y, c='r', marker='v', label='Batting Average')\n",
    "ax.set_xlim(0,10)\n",
    "ax.set_ylim(0.2, 0.3)\n",
    "ax.set_ylabel('Batting Average')\n",
    "ax.set_xlabel('Inning')\n",
    "ax.set_title('Batting Average vs Inning')\n",
    "ax.legend()\n",
    "plt.show()"
   ]
  },
  {
   "cell_type": "code",
   "execution_count": 293,
   "metadata": {
    "scrolled": true
   },
   "outputs": [
    {
     "data": {
      "text/plain": [
       "game id\n",
       "ANA199704020    0.284091\n",
       "ANA199704030    0.188596\n",
       "ANA199704040    0.284167\n",
       "ANA199704050    0.252632\n",
       "ANA199704060    0.347222\n",
       "Name: BA, dtype: float64"
      ]
     },
     "execution_count": 293,
     "metadata": {},
     "output_type": "execute_result"
    }
   ],
   "source": [
    "gameavg = std_bt_average.groupby('game id')['BA'].agg(np.mean)\n",
    "gameavg.head()"
   ]
  },
  {
   "cell_type": "code",
   "execution_count": 363,
   "metadata": {},
   "outputs": [
    {
     "name": "stdout",
     "output_type": "stream",
     "text": [
      "(66801, 9)\n",
      "(126746,)\n"
     ]
    },
    {
     "data": {
      "text/html": [
       "<div>\n",
       "<style>\n",
       "    .dataframe thead tr:only-child th {\n",
       "        text-align: right;\n",
       "    }\n",
       "\n",
       "    .dataframe thead th {\n",
       "        text-align: left;\n",
       "    }\n",
       "\n",
       "    .dataframe tbody tr th {\n",
       "        vertical-align: top;\n",
       "    }\n",
       "</style>\n",
       "<table border=\"1\" class=\"dataframe\">\n",
       "  <thead>\n",
       "    <tr style=\"text-align: right;\">\n",
       "      <th></th>\n",
       "      <th>game id</th>\n",
       "      <th>day/night flag</th>\n",
       "      <th>attendance</th>\n",
       "      <th>temperature</th>\n",
       "      <th>wind direction</th>\n",
       "      <th>wind speed</th>\n",
       "      <th>field condition</th>\n",
       "      <th>precipitation</th>\n",
       "      <th>sky</th>\n",
       "      <th>BA</th>\n",
       "    </tr>\n",
       "  </thead>\n",
       "  <tbody>\n",
       "    <tr>\n",
       "      <th>0</th>\n",
       "      <td>BOS195004180</td>\n",
       "      <td>0</td>\n",
       "      <td>31822.0</td>\n",
       "      <td>NaN</td>\n",
       "      <td>NaN</td>\n",
       "      <td>NaN</td>\n",
       "      <td>NaN</td>\n",
       "      <td>NaN</td>\n",
       "      <td>NaN</td>\n",
       "      <td>0.322000</td>\n",
       "    </tr>\n",
       "    <tr>\n",
       "      <th>1</th>\n",
       "      <td>BOS195004192</td>\n",
       "      <td>0</td>\n",
       "      <td>32860.0</td>\n",
       "      <td>NaN</td>\n",
       "      <td>NaN</td>\n",
       "      <td>NaN</td>\n",
       "      <td>NaN</td>\n",
       "      <td>NaN</td>\n",
       "      <td>NaN</td>\n",
       "      <td>0.314493</td>\n",
       "    </tr>\n",
       "    <tr>\n",
       "      <th>2</th>\n",
       "      <td>BOS195004280</td>\n",
       "      <td>0</td>\n",
       "      <td>5333.0</td>\n",
       "      <td>NaN</td>\n",
       "      <td>NaN</td>\n",
       "      <td>NaN</td>\n",
       "      <td>NaN</td>\n",
       "      <td>NaN</td>\n",
       "      <td>NaN</td>\n",
       "      <td>0.263889</td>\n",
       "    </tr>\n",
       "    <tr>\n",
       "      <th>3</th>\n",
       "      <td>BOS195004301</td>\n",
       "      <td>0</td>\n",
       "      <td>NaN</td>\n",
       "      <td>NaN</td>\n",
       "      <td>NaN</td>\n",
       "      <td>NaN</td>\n",
       "      <td>NaN</td>\n",
       "      <td>NaN</td>\n",
       "      <td>NaN</td>\n",
       "      <td>0.270833</td>\n",
       "    </tr>\n",
       "    <tr>\n",
       "      <th>4</th>\n",
       "      <td>BOS195004302</td>\n",
       "      <td>0</td>\n",
       "      <td>34697.0</td>\n",
       "      <td>NaN</td>\n",
       "      <td>NaN</td>\n",
       "      <td>NaN</td>\n",
       "      <td>NaN</td>\n",
       "      <td>NaN</td>\n",
       "      <td>NaN</td>\n",
       "      <td>0.282540</td>\n",
       "    </tr>\n",
       "  </tbody>\n",
       "</table>\n",
       "</div>"
      ],
      "text/plain": [
       "        game id  day/night flag  attendance  temperature  wind direction  \\\n",
       "0  BOS195004180               0     31822.0          NaN             NaN   \n",
       "1  BOS195004192               0     32860.0          NaN             NaN   \n",
       "2  BOS195004280               0      5333.0          NaN             NaN   \n",
       "3  BOS195004301               0         NaN          NaN             NaN   \n",
       "4  BOS195004302               0     34697.0          NaN             NaN   \n",
       "\n",
       "   wind speed  field condition  precipitation  sky        BA  \n",
       "0         NaN              NaN            NaN  NaN  0.322000  \n",
       "1         NaN              NaN            NaN  NaN  0.314493  \n",
       "2         NaN              NaN            NaN  NaN  0.263889  \n",
       "3         NaN              NaN            NaN  NaN  0.270833  \n",
       "4         NaN              NaN            NaN  NaN  0.282540  "
      ]
     },
     "execution_count": 363,
     "metadata": {},
     "output_type": "execute_result"
    }
   ],
   "source": [
    "weather = gl2data[get]\n",
    "print(weather.shape)\n",
    "print(gameavg.shape)\n",
    "weather.head()\n",
    "ga = pd.DataFrame()\n",
    "ga['game id'] = gameavg.keys()\n",
    "ga['BA'] = gameavg.reset_index()['BA']\n",
    "ga.head()\n",
    "weather = weather.merge(ga, left_on='game id', right_on='game id', how='inner')\n",
    "#weather.drop(['BA_x'], axis=1)\n",
    "weather.rename(columns={'BA_y': 'BA'}, inplace=True)\n",
    "weather.head()\n",
    "\n",
    "cols = weather.columns\n",
    "weather[cols] = weather[cols].replace({'0':np.nan, 0:np.nan})\n",
    "weather[cols] = weather[cols].replace({'-1':np.nan, -1:np.nan})\n",
    "\n",
    "weather['day/night flag'] = weather['day/night flag'].astype('category')#cast to category\n",
    "#convert categories to ints\n",
    "cat_cols = weather.select_dtypes(['category']).columns #get cat cols\n",
    "weather[cat_cols] = weather[cat_cols].apply(lambda x: x.cat.codes) #to int\n",
    "weather.head()"
   ]
  },
  {
   "cell_type": "code",
   "execution_count": 371,
   "metadata": {},
   "outputs": [],
   "source": [
    "rw = weather.dropna()\n",
    "y = rw.BA\n",
    "x = rw.drop(['BA', 'game id'], axis=1)\n",
    "trainx, testx, trainy, testy = train_test_split(x, y, random_state=0)"
   ]
  },
  {
   "cell_type": "code",
   "execution_count": 424,
   "metadata": {},
   "outputs": [
    {
     "data": {
      "text/plain": [
       "temperature        0.085970\n",
       "precipitation      0.024802\n",
       "wind direction     0.021322\n",
       "attendance         0.017018\n",
       "day/night flag     0.009281\n",
       "wind speed         0.006130\n",
       "sky                0.002387\n",
       "field condition   -0.032454\n",
       "dtype: float64"
      ]
     },
     "execution_count": 424,
     "metadata": {},
     "output_type": "execute_result"
    }
   ],
   "source": [
    "forest = RandomForestRegressor(max_leaf_nodes=10)\n",
    "forest.fit(trainx, trainy)\n",
    "feature_importance = forest.feature_importances_\n",
    "indices = np.argsort(feature_importance)[::-1]\n",
    "\n",
    "#convert the x data to proper data frame\n",
    "trainx_df = pd.DataFrame(data=trainx)#make it a dataframe\n",
    "trainx_df.columns = x.columns#name the columns\n",
    "testx_df = pd.DataFrame(data=testx)#make it a dataframe\n",
    "testx_df.columns = x.columns#name the columns\n",
    "\n",
    "trainx_df.iloc[indices].columns[:10]\n",
    "\n",
    "important_cols = trainx_df.iloc[indices].columns #these are the important columns\n",
    "#gonna put those columns in a dictionary to hold each of their correlations with sale price\n",
    "feature_corr_dict = dict((key, 0) for key in important_cols) #key is each value in important cols, value is 0 by default\n",
    "for feature in feature_corr_dict: #iterate and calc corr coef for each feature\n",
    "    corr = np.corrcoef(trainx_df[feature], trainy) #correlation matrix\n",
    "    feature_corr_dict[feature]=corr[1,0] #correlation of x,y \n",
    "f_corr = pd.Series(data=feature_corr_dict) #create series from data\n",
    "f_corr = f_corr.sort_values(ascending=False)\n",
    "f_corr = f_corr.dropna()\n",
    "f_corr"
   ]
  },
  {
   "cell_type": "code",
   "execution_count": 425,
   "metadata": {},
   "outputs": [],
   "source": [
    "f_corr = f_corr.reset_index()"
   ]
  },
  {
   "cell_type": "code",
   "execution_count": 426,
   "metadata": {},
   "outputs": [
    {
     "data": {
      "text/plain": [
       "Index(['index', 0], dtype='object')"
      ]
     },
     "execution_count": 426,
     "metadata": {},
     "output_type": "execute_result"
    }
   ],
   "source": [
    "f_corr.iloc[:,1]\n",
    "f_corr.columns"
   ]
  },
  {
   "cell_type": "code",
   "execution_count": 427,
   "metadata": {},
   "outputs": [
    {
     "name": "stdout",
     "output_type": "stream",
     "text": [
      "['temperature', 'precipitation', 'wind direction', 'attendance', 'day/night flag', 'wind speed', 'sky', 'field condition']\n"
     ]
    },
    {
     "data": {
      "image/png": "[encoded data removed]",
      "text/plain": [
       "<matplotlib.figure.Figure at 0x2021b808630>"
      ]
     },
     "metadata": {},
     "output_type": "display_data"
    }
   ],
   "source": [
    "lbs = f_corr.iloc[:,0].tolist()\n",
    "ys = f_corr.iloc[:,1]\n",
    "ixx = np.arange(f_corr.shape[0])\n",
    "print(lbs)\n",
    "fig, ax = plt.subplots(figsize=(8,4))\n",
    "plt.bar(ixx,ys)\n",
    "plt.xticks(ixx, lbs, fontsize=10, rotation=30)\n",
    "ax.set_title(\"Feature Importance in Determining Batting Average\")\n",
    "ax.set_ylabel('Correlation with batting average')\n",
    "ax.set_xlabel('Feature')\n",
    "plt.show()"
   ]
  },
  {
   "cell_type": "code",
   "execution_count": 428,
   "metadata": {},
   "outputs": [
    {
     "name": "stdout",
     "output_type": "stream",
     "text": [
      "Mean Absolute Error: 0.048708828\n"
     ]
    }
   ],
   "source": [
    "predictions = forest.predict(testx)\n",
    "print(\"Mean Absolute Error: {0:.8}\".format(mean_absolute_error(predictions, testy)))\n"
   ]
  },
  {
   "cell_type": "code",
   "execution_count": 165,
   "metadata": {},
   "outputs": [
    {
     "data": {
      "text/plain": [
       "\"\\n# Create new dataframe with data to calculate batting average\\noBatterData = events[['game id', 'batter', 'event type', 'batter event flag', 'ab flag', 'hit value']].copy()\\n\\n# Calculate batters' at bats and hits per game\\nBatterData = oBatterData.loc[(oBatterData['batter event flag'] == 1) & (oBatterData['ab flag'] == 1)]\\nBatterData2 = BatterData.loc[(BatterData['batter event flag'] == 1) & (BatterData['ab flag'] == 1) & (BatterData['hit value'] > 0)]\\nBatterData = BatterData.groupby(['game id', 'batter']).size().reset_index(name='AB')\\nBatterData2 = BatterData2.groupby(['game id', 'batter']).size().reset_index(name='H')\\n\\n#BatterData.loc[(BatterData['batter event flag'] == 1) & (BatterData['ab flag'] == 1)]['hit value'].groupby(['batter'])\\n\\nBatterData3 = oBatterData.loc[(oBatterData['batter event flag'] == 1) & (oBatterData['ab flag'] == 1) & (oBatterData['hit value'] == 0)]\\nBatterData3 = BatterData3.groupby(['game id', 'batter']).size().reset_index(name='strikeouts')\\n\\nbat3 = BatterData.merge(BatterData2, left_on=['batter','game id'], right_on=['batter','game id'], how='outer')\\nbat3 = bat3.merge(BatterData3, left_on=['batter','game id'], right_on=['batter','game id'], how='outer')\\n\\nbat3['BA'] = bat3.apply(lambda row: row['H']/row['AB'],axis=1)\\n\\nbat3 = bat3.fillna(value=0, axis=1)\\n\\nbat3.head(40)\\n\""
      ]
     },
     "execution_count": 165,
     "metadata": {},
     "output_type": "execute_result"
    }
   ],
   "source": [
    "'''\n",
    "# Create new dataframe with data to calculate batting average\n",
    "oBatterData = events[['game id', 'batter', 'event type', 'batter event flag', 'ab flag', 'hit value']].copy()\n",
    "\n",
    "# Calculate batters' at bats and hits per game\n",
    "BatterData = oBatterData.loc[(oBatterData['batter event flag'] == 1) & (oBatterData['ab flag'] == 1)]\n",
    "BatterData2 = BatterData.loc[(BatterData['batter event flag'] == 1) & (BatterData['ab flag'] == 1) & (BatterData['hit value'] > 0)]\n",
    "BatterData = BatterData.groupby(['game id', 'batter']).size().reset_index(name='AB')\n",
    "BatterData2 = BatterData2.groupby(['game id', 'batter']).size().reset_index(name='H')\n",
    "\n",
    "#BatterData.loc[(BatterData['batter event flag'] == 1) & (BatterData['ab flag'] == 1)]['hit value'].groupby(['batter'])\n",
    "\n",
    "BatterData3 = oBatterData.loc[(oBatterData['batter event flag'] == 1) & (oBatterData['ab flag'] == 1) & (oBatterData['hit value'] == 0)]\n",
    "BatterData3 = BatterData3.groupby(['game id', 'batter']).size().reset_index(name='strikeouts')\n",
    "\n",
    "bat3 = BatterData.merge(BatterData2, left_on=['batter','game id'], right_on=['batter','game id'], how='outer')\n",
    "bat3 = bat3.merge(BatterData3, left_on=['batter','game id'], right_on=['batter','game id'], how='outer')\n",
    "\n",
    "bat3['BA'] = bat3.apply(lambda row: row['H']/row['AB'],axis=1)\n",
    "\n",
    "bat3 = bat3.fillna(value=0, axis=1)\n",
    "\n",
    "bat3.head(40)\n",
    "'''"
   ]
  },
  {
   "cell_type": "code",
   "execution_count": null,
   "metadata": {},
   "outputs": [],
   "source": [
    "data9 = EVdata.loc[data.inning==9]\n",
    "data92 = data9[abs(data9['vis score']-data9['home score'])<2]#9th inning with two outs\n",
    "x = data9['outs']\n",
    "y = data9['RBI on play']\n",
    "correlation = np.corrcoef(x, y)\n",
    "EVdata[\"outOrHit\"] = EVdata.apply(lambda row: 1 if \n",
    "                                (row[\"event type\"]==2 or \n",
    "                                row[\"event type\"]==3) else\n",
    "                                2 if \n",
    "                                row[\"event type\"]==20 else\n",
    "                                3 if\n",
    "                                row[\"event type\"]==21 else\n",
    "                                4 if\n",
    "                                row[\"event type\"]==22 else\n",
    "                                5 if\n",
    "                                row[\"event type\"]==23\n",
    "                                else None, axis=1)"
   ]
  },
  {
   "cell_type": "code",
   "execution_count": null,
   "metadata": {},
   "outputs": [],
   "source": [
    "fig, ax = plt.subplots(figsize=(4,4))\n",
    "ax.hist(EVdata.loc[data.outs==2].outOrHit.dropna(), facecolor='green')\n",
    "ax.set_xlabel(\"Event Value\\nFigure 2\")\n",
    "ax.set_ylabel(\"Frequency\")\n",
    "ax.set_xticks(np.arange(6))\n",
    "ax.set_title(\"Frequency of Event Values with 2 Outs\")\n",
    "fig.subplots_adjust(hspace=.5)\n",
    "plt.show()"
   ]
  },
  {
   "cell_type": "code",
   "execution_count": null,
   "metadata": {},
   "outputs": [],
   "source": [
    "# Initialize figure and axis\n",
    "fig, ax = plt.subplots(figsize=(4,12), nrows=3, ncols=1)\n",
    "for i in data.loc[data.inning==9].outs.unique():\n",
    "    EVdata.loc[(data.inning==9) & (data.outs==i)].outOrHit.hist(ax=ax[i])\n",
    "    ax[i].set_xlabel(\"Event Value\\nFigure 1\")\n",
    "    ax[i].set_ylabel(\"Frequency\")\n",
    "    ax[i].set_xticks(np.arange(6))\n",
    "    ax[i].set_title(\"Frequency of Event Values with {0} Outs\".format(i))\n",
    "fig.subplots_adjust(hspace=.5)\n",
    "plt.suptitle(\"Frequency of Event Values with 0, 1, and 2 Outs\")\n",
    "plt.show()"
   ]
  },
  {
   "cell_type": "markdown",
   "metadata": {},
   "source": [
    "## Trying To Make Some Performance Metrics"
   ]
  },
  {
   "cell_type": "code",
   "execution_count": null,
   "metadata": {},
   "outputs": [],
   "source": []
  },
  {
   "cell_type": "code",
   "execution_count": null,
   "metadata": {},
   "outputs": [],
   "source": []
  },
  {
   "cell_type": "code",
   "execution_count": null,
   "metadata": {
    "collapsed": true
   },
   "outputs": [],
   "source": []
  }
 ],
 "metadata": {
  "kernelspec": {
   "display_name": "Python 3",
   "language": "python",
   "name": "python3"
  },
  "language_info": {
   "codemirror_mode": {
    "name": "ipython",
    "version": 3
   },
   "file_extension": ".py",
   "mimetype": "text/x-python",
   "name": "python",
   "nbconvert_exporter": "python",
   "pygments_lexer": "ipython3",
   "version": "3.6.3"
  }
 },
 "nbformat": 4,
 "nbformat_minor": 2
}
